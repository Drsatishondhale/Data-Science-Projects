{
 "cells": [
  {
   "cell_type": "markdown",
   "metadata": {
    "id": "NOVecSOGZ6r3",
    "papermill": {
     "duration": 0.044891,
     "end_time": "2021-03-13T00:07:13.327075",
     "exception": false,
     "start_time": "2021-03-13T00:07:13.282184",
     "status": "completed"
    },
    "tags": []
   },
   "source": [
    "# **Feature Extraction and Dimensionality Reduction with Principal Component Analysis (PCA) and Comparison Accuracy 6 Machine Learning Classification Models: before-after PCA.**\n",
    "\n",
    "Step 1:Collect Data: UCI Parkinson's Disease Classification Data Set\n",
    "\n",
    "Step 2: Eigendecomposition - Eigenvalues, Eigenvectors and Eigenspace\n",
    "\n",
    "Step 3: Primary Component Selection\n",
    "\n",
    "Step 4: Projection New Feature Space\n",
    "\n",
    "Step 5: Principal Component Analysis (PCA)\n",
    "\n",
    "Step 6:  Comparison Accurancy 6 Machine Learning Models : before-after PCA\n",
    "\n",
    "1. Model : Logistic Regression\n",
    "2. Model : Support Vector Machines (SVM)\n",
    "3. Model : Decision Tree Classifier\n",
    "4. Model : KNN(k-nearest neighbors algorithm)\n",
    "5. Model : Random Forest Classifier\n",
    "6. Model: Gaussian Naive Bayes\n"
   ]
  },
  {
   "cell_type": "code",
   "execution_count": 1,
   "metadata": {
    "execution": {
     "iopub.execute_input": "2021-03-13T00:07:13.416669Z",
     "iopub.status.busy": "2021-03-13T00:07:13.416017Z",
     "iopub.status.idle": "2021-03-13T00:07:14.162701Z",
     "shell.execute_reply": "2021-03-13T00:07:14.161914Z"
    },
    "id": "MkYnaBWaVX8X",
    "papermill": {
     "duration": 0.793972,
     "end_time": "2021-03-13T00:07:14.162913",
     "exception": false,
     "start_time": "2021-03-13T00:07:13.368941",
     "status": "completed"
    },
    "tags": []
   },
   "outputs": [
    {
     "ename": "FileNotFoundError",
     "evalue": "[WinError 3] The system cannot find the path specified: '../input/parkinsons-disease-speech-signal-features/'",
     "output_type": "error",
     "traceback": [
      "\u001b[1;31m---------------------------------------------------------------------------\u001b[0m",
      "\u001b[1;31mFileNotFoundError\u001b[0m                         Traceback (most recent call last)",
      "Input \u001b[1;32mIn [1]\u001b[0m, in \u001b[0;36m<cell line: 2>\u001b[1;34m()\u001b[0m\n\u001b[0;32m      1\u001b[0m \u001b[38;5;28;01mimport\u001b[39;00m \u001b[38;5;21;01mos\u001b[39;00m \n\u001b[1;32m----> 2\u001b[0m \u001b[43mos\u001b[49m\u001b[38;5;241;43m.\u001b[39;49m\u001b[43mchdir\u001b[49m\u001b[43m(\u001b[49m\u001b[38;5;124;43m\"\u001b[39;49m\u001b[38;5;124;43m../input/parkinsons-disease-speech-signal-features/\u001b[39;49m\u001b[38;5;124;43m\"\u001b[39;49m\u001b[43m)\u001b[49m\n\u001b[0;32m      3\u001b[0m get_ipython()\u001b[38;5;241m.\u001b[39msystem(\u001b[38;5;124m'\u001b[39m\u001b[38;5;124mls\u001b[39m\u001b[38;5;124m'\u001b[39m)\n",
      "\u001b[1;31mFileNotFoundError\u001b[0m: [WinError 3] The system cannot find the path specified: '../input/parkinsons-disease-speech-signal-features/'"
     ]
    }
   ],
   "source": [
    "import os \n",
    "os.chdir(\"../input/parkinsons-disease-speech-signal-features/\")\n",
    "!ls"
   ]
  },
  {
   "cell_type": "markdown",
   "metadata": {
    "id": "xFlZ9T1Vcvn0",
    "papermill": {
     "duration": 0.042515,
     "end_time": "2021-03-13T00:07:14.248721",
     "exception": false,
     "start_time": "2021-03-13T00:07:14.206206",
     "status": "completed"
    },
    "tags": []
   },
   "source": [
    "# **Step 1:Collect Data: UCI Parkinson's Disease Classification Data Set**\n",
    "https://archive.ics.uci.edu/ml/datasets/Parkinson%27s+Disease+Classification"
   ]
  },
  {
   "cell_type": "code",
   "execution_count": 2,
   "metadata": {
    "execution": {
     "iopub.execute_input": "2021-03-13T00:07:14.339416Z",
     "iopub.status.busy": "2021-03-13T00:07:14.338528Z",
     "iopub.status.idle": "2021-03-13T00:07:14.342181Z",
     "shell.execute_reply": "2021-03-13T00:07:14.341506Z"
    },
    "id": "obgaP1PIV0H8",
    "outputId": "55f53dfc-5fde-429b-a3c8-11b7ab5622be",
    "papermill": {
     "duration": 0.051335,
     "end_time": "2021-03-13T00:07:14.342319",
     "exception": false,
     "start_time": "2021-03-13T00:07:14.290984",
     "status": "completed"
    },
    "tags": []
   },
   "outputs": [],
   "source": [
    "# !wget https://archive.ics.uci.edu/ml/machine-learning-databases/00470/pd_speech_features.rar\n"
   ]
  },
  {
   "cell_type": "code",
   "execution_count": 3,
   "metadata": {
    "execution": {
     "iopub.execute_input": "2021-03-13T00:07:14.431628Z",
     "iopub.status.busy": "2021-03-13T00:07:14.430860Z",
     "iopub.status.idle": "2021-03-13T00:07:14.433884Z",
     "shell.execute_reply": "2021-03-13T00:07:14.433367Z"
    },
    "id": "l38LN_evWejk",
    "outputId": "ca1bb24a-6f43-466f-f0eb-2d213313ff43",
    "papermill": {
     "duration": 0.04925,
     "end_time": "2021-03-13T00:07:14.434027",
     "exception": false,
     "start_time": "2021-03-13T00:07:14.384777",
     "status": "completed"
    },
    "tags": []
   },
   "outputs": [],
   "source": [
    "# !unrar x pd_speech_features.rar"
   ]
  },
  {
   "cell_type": "markdown",
   "metadata": {
    "id": "891kf5AVdjFl",
    "papermill": {
     "duration": 0.042113,
     "end_time": "2021-03-13T00:07:14.518448",
     "exception": false,
     "start_time": "2021-03-13T00:07:14.476335",
     "status": "completed"
    },
    "tags": []
   },
   "source": [
    "**Data Set Information:**\n",
    "\n",
    "The data used in this study were gathered from 188 patients with PD (107 men and 81 women) with ages ranging from 33 to 87 (65.1Â±10.9) at the Department of Neurology in CerrahpaÅŸa Faculty of Medicine, Istanbul University. The control group consists of 64 healthy individuals (23 men and 41 women) with ages varying between 41 and 82 (61.1Â±8.9). During the data collection process, the microphone is set to 44.1 KHz and following the physicianâ€™s examination, the sustained phonation of the vowel /a/ was collected from each subject with three repetitions.\n",
    "\n",
    "\n",
    "**Attribute Information:**\n",
    "\n",
    "Various speech signal processing algorithms including Time Frequency Features, Mel Frequency Cepstral Coefficients (MFCCs), Wavelet Transform based Features, Vocal Fold Features and TWQT features have been applied to the speech recordings of Parkinson's Disease (PD) patients to extract clinically useful information for PD assessment.\n",
    "\n",
    "\n",
    "**Relevant Papers:**\n",
    "\n",
    "Provide references to papers that have cited this data set in the past (if any)."
   ]
  },
  {
   "cell_type": "code",
   "execution_count": 1,
   "metadata": {
    "execution": {
     "iopub.execute_input": "2021-03-13T00:07:14.612494Z",
     "iopub.status.busy": "2021-03-13T00:07:14.611639Z",
     "iopub.status.idle": "2021-03-13T00:07:14.958807Z",
     "shell.execute_reply": "2021-03-13T00:07:14.958309Z"
    },
    "id": "YIQcSz4SXQEM",
    "outputId": "aa35f462-8f7d-4ac4-f1d6-b4812904b3eb",
    "papermill": {
     "duration": 0.398073,
     "end_time": "2021-03-13T00:07:14.958970",
     "exception": false,
     "start_time": "2021-03-13T00:07:14.560897",
     "status": "completed"
    },
    "tags": []
   },
   "outputs": [
    {
     "data": {
      "text/html": [
       "<div>\n",
       "<style scoped>\n",
       "    .dataframe tbody tr th:only-of-type {\n",
       "        vertical-align: middle;\n",
       "    }\n",
       "\n",
       "    .dataframe tbody tr th {\n",
       "        vertical-align: top;\n",
       "    }\n",
       "\n",
       "    .dataframe thead th {\n",
       "        text-align: right;\n",
       "    }\n",
       "</style>\n",
       "<table border=\"1\" class=\"dataframe\">\n",
       "  <thead>\n",
       "    <tr style=\"text-align: right;\">\n",
       "      <th></th>\n",
       "      <th>id</th>\n",
       "      <th>gender</th>\n",
       "      <th>PPE</th>\n",
       "      <th>DFA</th>\n",
       "      <th>RPDE</th>\n",
       "      <th>numPulses</th>\n",
       "      <th>numPeriodsPulses</th>\n",
       "      <th>meanPeriodPulses</th>\n",
       "      <th>stdDevPeriodPulses</th>\n",
       "      <th>locPctJitter</th>\n",
       "      <th>...</th>\n",
       "      <th>tqwt_kurtosisValue_dec_28</th>\n",
       "      <th>tqwt_kurtosisValue_dec_29</th>\n",
       "      <th>tqwt_kurtosisValue_dec_30</th>\n",
       "      <th>tqwt_kurtosisValue_dec_31</th>\n",
       "      <th>tqwt_kurtosisValue_dec_32</th>\n",
       "      <th>tqwt_kurtosisValue_dec_33</th>\n",
       "      <th>tqwt_kurtosisValue_dec_34</th>\n",
       "      <th>tqwt_kurtosisValue_dec_35</th>\n",
       "      <th>tqwt_kurtosisValue_dec_36</th>\n",
       "      <th>class</th>\n",
       "    </tr>\n",
       "  </thead>\n",
       "  <tbody>\n",
       "    <tr>\n",
       "      <th>0</th>\n",
       "      <td>0</td>\n",
       "      <td>1</td>\n",
       "      <td>0.85247</td>\n",
       "      <td>0.71826</td>\n",
       "      <td>0.57227</td>\n",
       "      <td>240</td>\n",
       "      <td>239</td>\n",
       "      <td>0.008064</td>\n",
       "      <td>0.000087</td>\n",
       "      <td>0.00218</td>\n",
       "      <td>...</td>\n",
       "      <td>1.5620</td>\n",
       "      <td>2.6445</td>\n",
       "      <td>3.8686</td>\n",
       "      <td>4.2105</td>\n",
       "      <td>5.1221</td>\n",
       "      <td>4.4625</td>\n",
       "      <td>2.6202</td>\n",
       "      <td>3.0004</td>\n",
       "      <td>18.9405</td>\n",
       "      <td>1</td>\n",
       "    </tr>\n",
       "    <tr>\n",
       "      <th>1</th>\n",
       "      <td>0</td>\n",
       "      <td>1</td>\n",
       "      <td>0.76686</td>\n",
       "      <td>0.69481</td>\n",
       "      <td>0.53966</td>\n",
       "      <td>234</td>\n",
       "      <td>233</td>\n",
       "      <td>0.008258</td>\n",
       "      <td>0.000073</td>\n",
       "      <td>0.00195</td>\n",
       "      <td>...</td>\n",
       "      <td>1.5589</td>\n",
       "      <td>3.6107</td>\n",
       "      <td>23.5155</td>\n",
       "      <td>14.1962</td>\n",
       "      <td>11.0261</td>\n",
       "      <td>9.5082</td>\n",
       "      <td>6.5245</td>\n",
       "      <td>6.3431</td>\n",
       "      <td>45.1780</td>\n",
       "      <td>1</td>\n",
       "    </tr>\n",
       "    <tr>\n",
       "      <th>2</th>\n",
       "      <td>0</td>\n",
       "      <td>1</td>\n",
       "      <td>0.85083</td>\n",
       "      <td>0.67604</td>\n",
       "      <td>0.58982</td>\n",
       "      <td>232</td>\n",
       "      <td>231</td>\n",
       "      <td>0.008340</td>\n",
       "      <td>0.000060</td>\n",
       "      <td>0.00176</td>\n",
       "      <td>...</td>\n",
       "      <td>1.5643</td>\n",
       "      <td>2.3308</td>\n",
       "      <td>9.4959</td>\n",
       "      <td>10.7458</td>\n",
       "      <td>11.0177</td>\n",
       "      <td>4.8066</td>\n",
       "      <td>2.9199</td>\n",
       "      <td>3.1495</td>\n",
       "      <td>4.7666</td>\n",
       "      <td>1</td>\n",
       "    </tr>\n",
       "    <tr>\n",
       "      <th>3</th>\n",
       "      <td>1</td>\n",
       "      <td>0</td>\n",
       "      <td>0.41121</td>\n",
       "      <td>0.79672</td>\n",
       "      <td>0.59257</td>\n",
       "      <td>178</td>\n",
       "      <td>177</td>\n",
       "      <td>0.010858</td>\n",
       "      <td>0.000183</td>\n",
       "      <td>0.00419</td>\n",
       "      <td>...</td>\n",
       "      <td>3.7805</td>\n",
       "      <td>3.5664</td>\n",
       "      <td>5.2558</td>\n",
       "      <td>14.0403</td>\n",
       "      <td>4.2235</td>\n",
       "      <td>4.6857</td>\n",
       "      <td>4.8460</td>\n",
       "      <td>6.2650</td>\n",
       "      <td>4.0603</td>\n",
       "      <td>1</td>\n",
       "    </tr>\n",
       "    <tr>\n",
       "      <th>4</th>\n",
       "      <td>1</td>\n",
       "      <td>0</td>\n",
       "      <td>0.32790</td>\n",
       "      <td>0.79782</td>\n",
       "      <td>0.53028</td>\n",
       "      <td>236</td>\n",
       "      <td>235</td>\n",
       "      <td>0.008162</td>\n",
       "      <td>0.002669</td>\n",
       "      <td>0.00535</td>\n",
       "      <td>...</td>\n",
       "      <td>6.1727</td>\n",
       "      <td>5.8416</td>\n",
       "      <td>6.0805</td>\n",
       "      <td>5.7621</td>\n",
       "      <td>7.7817</td>\n",
       "      <td>11.6891</td>\n",
       "      <td>8.2103</td>\n",
       "      <td>5.0559</td>\n",
       "      <td>6.1164</td>\n",
       "      <td>1</td>\n",
       "    </tr>\n",
       "    <tr>\n",
       "      <th>...</th>\n",
       "      <td>...</td>\n",
       "      <td>...</td>\n",
       "      <td>...</td>\n",
       "      <td>...</td>\n",
       "      <td>...</td>\n",
       "      <td>...</td>\n",
       "      <td>...</td>\n",
       "      <td>...</td>\n",
       "      <td>...</td>\n",
       "      <td>...</td>\n",
       "      <td>...</td>\n",
       "      <td>...</td>\n",
       "      <td>...</td>\n",
       "      <td>...</td>\n",
       "      <td>...</td>\n",
       "      <td>...</td>\n",
       "      <td>...</td>\n",
       "      <td>...</td>\n",
       "      <td>...</td>\n",
       "      <td>...</td>\n",
       "      <td>...</td>\n",
       "    </tr>\n",
       "    <tr>\n",
       "      <th>751</th>\n",
       "      <td>250</td>\n",
       "      <td>0</td>\n",
       "      <td>0.80903</td>\n",
       "      <td>0.56355</td>\n",
       "      <td>0.28385</td>\n",
       "      <td>417</td>\n",
       "      <td>416</td>\n",
       "      <td>0.004627</td>\n",
       "      <td>0.000052</td>\n",
       "      <td>0.00064</td>\n",
       "      <td>...</td>\n",
       "      <td>3.0706</td>\n",
       "      <td>3.0190</td>\n",
       "      <td>3.1212</td>\n",
       "      <td>2.4921</td>\n",
       "      <td>3.5844</td>\n",
       "      <td>3.5400</td>\n",
       "      <td>3.3805</td>\n",
       "      <td>3.2003</td>\n",
       "      <td>6.8671</td>\n",
       "      <td>0</td>\n",
       "    </tr>\n",
       "    <tr>\n",
       "      <th>752</th>\n",
       "      <td>250</td>\n",
       "      <td>0</td>\n",
       "      <td>0.16084</td>\n",
       "      <td>0.56499</td>\n",
       "      <td>0.59194</td>\n",
       "      <td>415</td>\n",
       "      <td>413</td>\n",
       "      <td>0.004550</td>\n",
       "      <td>0.000220</td>\n",
       "      <td>0.00143</td>\n",
       "      <td>...</td>\n",
       "      <td>1.9704</td>\n",
       "      <td>1.7451</td>\n",
       "      <td>1.8277</td>\n",
       "      <td>2.4976</td>\n",
       "      <td>5.2981</td>\n",
       "      <td>4.2616</td>\n",
       "      <td>6.3042</td>\n",
       "      <td>10.9058</td>\n",
       "      <td>28.4170</td>\n",
       "      <td>0</td>\n",
       "    </tr>\n",
       "    <tr>\n",
       "      <th>753</th>\n",
       "      <td>251</td>\n",
       "      <td>0</td>\n",
       "      <td>0.88389</td>\n",
       "      <td>0.72335</td>\n",
       "      <td>0.46815</td>\n",
       "      <td>381</td>\n",
       "      <td>380</td>\n",
       "      <td>0.005069</td>\n",
       "      <td>0.000103</td>\n",
       "      <td>0.00076</td>\n",
       "      <td>...</td>\n",
       "      <td>51.5607</td>\n",
       "      <td>44.4641</td>\n",
       "      <td>26.1586</td>\n",
       "      <td>6.3076</td>\n",
       "      <td>2.8601</td>\n",
       "      <td>2.5361</td>\n",
       "      <td>3.5377</td>\n",
       "      <td>3.3545</td>\n",
       "      <td>5.0424</td>\n",
       "      <td>0</td>\n",
       "    </tr>\n",
       "    <tr>\n",
       "      <th>754</th>\n",
       "      <td>251</td>\n",
       "      <td>0</td>\n",
       "      <td>0.83782</td>\n",
       "      <td>0.74890</td>\n",
       "      <td>0.49823</td>\n",
       "      <td>340</td>\n",
       "      <td>339</td>\n",
       "      <td>0.005679</td>\n",
       "      <td>0.000055</td>\n",
       "      <td>0.00092</td>\n",
       "      <td>...</td>\n",
       "      <td>19.1607</td>\n",
       "      <td>12.8312</td>\n",
       "      <td>8.9434</td>\n",
       "      <td>2.2044</td>\n",
       "      <td>1.9496</td>\n",
       "      <td>1.9664</td>\n",
       "      <td>2.6801</td>\n",
       "      <td>2.8332</td>\n",
       "      <td>3.7131</td>\n",
       "      <td>0</td>\n",
       "    </tr>\n",
       "    <tr>\n",
       "      <th>755</th>\n",
       "      <td>251</td>\n",
       "      <td>0</td>\n",
       "      <td>0.81304</td>\n",
       "      <td>0.76471</td>\n",
       "      <td>0.46374</td>\n",
       "      <td>340</td>\n",
       "      <td>339</td>\n",
       "      <td>0.005676</td>\n",
       "      <td>0.000037</td>\n",
       "      <td>0.00078</td>\n",
       "      <td>...</td>\n",
       "      <td>62.9927</td>\n",
       "      <td>21.8152</td>\n",
       "      <td>9.2457</td>\n",
       "      <td>4.8555</td>\n",
       "      <td>3.0551</td>\n",
       "      <td>3.0415</td>\n",
       "      <td>4.0116</td>\n",
       "      <td>2.6217</td>\n",
       "      <td>3.1527</td>\n",
       "      <td>0</td>\n",
       "    </tr>\n",
       "  </tbody>\n",
       "</table>\n",
       "<p>756 rows × 755 columns</p>\n",
       "</div>"
      ],
      "text/plain": [
       "      id  gender      PPE      DFA     RPDE  numPulses  numPeriodsPulses  \\\n",
       "0      0       1  0.85247  0.71826  0.57227        240               239   \n",
       "1      0       1  0.76686  0.69481  0.53966        234               233   \n",
       "2      0       1  0.85083  0.67604  0.58982        232               231   \n",
       "3      1       0  0.41121  0.79672  0.59257        178               177   \n",
       "4      1       0  0.32790  0.79782  0.53028        236               235   \n",
       "..   ...     ...      ...      ...      ...        ...               ...   \n",
       "751  250       0  0.80903  0.56355  0.28385        417               416   \n",
       "752  250       0  0.16084  0.56499  0.59194        415               413   \n",
       "753  251       0  0.88389  0.72335  0.46815        381               380   \n",
       "754  251       0  0.83782  0.74890  0.49823        340               339   \n",
       "755  251       0  0.81304  0.76471  0.46374        340               339   \n",
       "\n",
       "     meanPeriodPulses  stdDevPeriodPulses  locPctJitter  ...  \\\n",
       "0            0.008064            0.000087       0.00218  ...   \n",
       "1            0.008258            0.000073       0.00195  ...   \n",
       "2            0.008340            0.000060       0.00176  ...   \n",
       "3            0.010858            0.000183       0.00419  ...   \n",
       "4            0.008162            0.002669       0.00535  ...   \n",
       "..                ...                 ...           ...  ...   \n",
       "751          0.004627            0.000052       0.00064  ...   \n",
       "752          0.004550            0.000220       0.00143  ...   \n",
       "753          0.005069            0.000103       0.00076  ...   \n",
       "754          0.005679            0.000055       0.00092  ...   \n",
       "755          0.005676            0.000037       0.00078  ...   \n",
       "\n",
       "     tqwt_kurtosisValue_dec_28  tqwt_kurtosisValue_dec_29  \\\n",
       "0                       1.5620                     2.6445   \n",
       "1                       1.5589                     3.6107   \n",
       "2                       1.5643                     2.3308   \n",
       "3                       3.7805                     3.5664   \n",
       "4                       6.1727                     5.8416   \n",
       "..                         ...                        ...   \n",
       "751                     3.0706                     3.0190   \n",
       "752                     1.9704                     1.7451   \n",
       "753                    51.5607                    44.4641   \n",
       "754                    19.1607                    12.8312   \n",
       "755                    62.9927                    21.8152   \n",
       "\n",
       "     tqwt_kurtosisValue_dec_30  tqwt_kurtosisValue_dec_31  \\\n",
       "0                       3.8686                     4.2105   \n",
       "1                      23.5155                    14.1962   \n",
       "2                       9.4959                    10.7458   \n",
       "3                       5.2558                    14.0403   \n",
       "4                       6.0805                     5.7621   \n",
       "..                         ...                        ...   \n",
       "751                     3.1212                     2.4921   \n",
       "752                     1.8277                     2.4976   \n",
       "753                    26.1586                     6.3076   \n",
       "754                     8.9434                     2.2044   \n",
       "755                     9.2457                     4.8555   \n",
       "\n",
       "     tqwt_kurtosisValue_dec_32  tqwt_kurtosisValue_dec_33  \\\n",
       "0                       5.1221                     4.4625   \n",
       "1                      11.0261                     9.5082   \n",
       "2                      11.0177                     4.8066   \n",
       "3                       4.2235                     4.6857   \n",
       "4                       7.7817                    11.6891   \n",
       "..                         ...                        ...   \n",
       "751                     3.5844                     3.5400   \n",
       "752                     5.2981                     4.2616   \n",
       "753                     2.8601                     2.5361   \n",
       "754                     1.9496                     1.9664   \n",
       "755                     3.0551                     3.0415   \n",
       "\n",
       "     tqwt_kurtosisValue_dec_34  tqwt_kurtosisValue_dec_35  \\\n",
       "0                       2.6202                     3.0004   \n",
       "1                       6.5245                     6.3431   \n",
       "2                       2.9199                     3.1495   \n",
       "3                       4.8460                     6.2650   \n",
       "4                       8.2103                     5.0559   \n",
       "..                         ...                        ...   \n",
       "751                     3.3805                     3.2003   \n",
       "752                     6.3042                    10.9058   \n",
       "753                     3.5377                     3.3545   \n",
       "754                     2.6801                     2.8332   \n",
       "755                     4.0116                     2.6217   \n",
       "\n",
       "     tqwt_kurtosisValue_dec_36  class  \n",
       "0                      18.9405      1  \n",
       "1                      45.1780      1  \n",
       "2                       4.7666      1  \n",
       "3                       4.0603      1  \n",
       "4                       6.1164      1  \n",
       "..                         ...    ...  \n",
       "751                     6.8671      0  \n",
       "752                    28.4170      0  \n",
       "753                     5.0424      0  \n",
       "754                     3.7131      0  \n",
       "755                     3.1527      0  \n",
       "\n",
       "[756 rows x 755 columns]"
      ]
     },
     "execution_count": 1,
     "metadata": {},
     "output_type": "execute_result"
    }
   ],
   "source": [
    "import pandas as pd\n",
    "df = pd.read_csv(\"pd_speech_features.csv\") # import dataset \n",
    "\n",
    "df"
   ]
  },
  {
   "cell_type": "markdown",
   "metadata": {
    "id": "OJU4DbpfODFO",
    "papermill": {
     "duration": 0.043873,
     "end_time": "2021-03-13T00:07:15.046552",
     "exception": false,
     "start_time": "2021-03-13T00:07:15.002679",
     "status": "completed"
    },
    "tags": []
   },
   "source": [
    " Data Cleaning and Data Manipulation**"
   ]
  },
  {
   "cell_type": "code",
   "execution_count": 5,
   "metadata": {
    "execution": {
     "iopub.execute_input": "2021-03-13T00:07:15.138847Z",
     "iopub.status.busy": "2021-03-13T00:07:15.138242Z",
     "iopub.status.idle": "2021-03-13T00:07:15.141067Z",
     "shell.execute_reply": "2021-03-13T00:07:15.140456Z"
    },
    "id": "GcPQNdGdOA8L",
    "outputId": "82d00e45-fa1f-4bdd-cdae-adfc7fca1373",
    "papermill": {
     "duration": 0.050042,
     "end_time": "2021-03-13T00:07:15.141205",
     "exception": false,
     "start_time": "2021-03-13T00:07:15.091163",
     "status": "completed"
    },
    "tags": []
   },
   "outputs": [
    {
     "data": {
      "text/plain": [
       "(756, 755)"
      ]
     },
     "execution_count": 5,
     "metadata": {},
     "output_type": "execute_result"
    }
   ],
   "source": [
    "df.shape"
   ]
  },
  {
   "cell_type": "code",
   "execution_count": 3,
   "metadata": {
    "execution": {
     "iopub.execute_input": "2021-03-13T00:07:15.233856Z",
     "iopub.status.busy": "2021-03-13T00:07:15.233231Z",
     "iopub.status.idle": "2021-03-13T00:07:15.236229Z",
     "shell.execute_reply": "2021-03-13T00:07:15.236811Z"
    },
    "id": "CNwfdldTN6VG",
    "outputId": "5d8ecd02-a017-4e68-fef4-68022c09fa06",
    "papermill": {
     "duration": 0.052202,
     "end_time": "2021-03-13T00:07:15.237020",
     "exception": false,
     "start_time": "2021-03-13T00:07:15.184818",
     "status": "completed"
    },
    "tags": []
   },
   "outputs": [
    {
     "data": {
      "text/plain": [
       "Index(['id', 'gender', 'PPE', 'DFA', 'RPDE', 'numPulses', 'numPeriodsPulses',\n",
       "       'meanPeriodPulses', 'stdDevPeriodPulses', 'locPctJitter',\n",
       "       ...\n",
       "       'tqwt_kurtosisValue_dec_28', 'tqwt_kurtosisValue_dec_29',\n",
       "       'tqwt_kurtosisValue_dec_30', 'tqwt_kurtosisValue_dec_31',\n",
       "       'tqwt_kurtosisValue_dec_32', 'tqwt_kurtosisValue_dec_33',\n",
       "       'tqwt_kurtosisValue_dec_34', 'tqwt_kurtosisValue_dec_35',\n",
       "       'tqwt_kurtosisValue_dec_36', 'class'],\n",
       "      dtype='object', length=755)"
      ]
     },
     "execution_count": 3,
     "metadata": {},
     "output_type": "execute_result"
    }
   ],
   "source": [
    "df.columns"
   ]
  },
  {
   "cell_type": "code",
   "execution_count": 6,
   "metadata": {
    "execution": {
     "iopub.execute_input": "2021-03-13T00:07:15.329783Z",
     "iopub.status.busy": "2021-03-13T00:07:15.329173Z",
     "iopub.status.idle": "2021-03-13T00:07:15.377895Z",
     "shell.execute_reply": "2021-03-13T00:07:15.378354Z"
    },
    "id": "5tyI_eeHXWlM",
    "outputId": "0b8273e2-03e8-478f-8688-f58f6a32c95d",
    "papermill": {
     "duration": 0.096204,
     "end_time": "2021-03-13T00:07:15.378536",
     "exception": false,
     "start_time": "2021-03-13T00:07:15.282332",
     "status": "completed"
    },
    "tags": []
   },
   "outputs": [
    {
     "name": "stdout",
     "output_type": "stream",
     "text": [
      "<class 'pandas.core.frame.DataFrame'>\n",
      "RangeIndex: 756 entries, 0 to 755\n",
      "Columns: 755 entries, id to class\n",
      "dtypes: float64(749), int64(6)\n",
      "memory usage: 4.4 MB\n"
     ]
    }
   ],
   "source": [
    "df.info()"
   ]
  },
  {
   "cell_type": "markdown",
   "metadata": {
    "id": "KXm-iYvgTY_z",
    "papermill": {
     "duration": 0.044241,
     "end_time": "2021-03-13T00:07:15.467727",
     "exception": false,
     "start_time": "2021-03-13T00:07:15.423486",
     "status": "completed"
    },
    "tags": []
   },
   "source": [
    "**Determining dependent and independent variables of the dataset**"
   ]
  },
  {
   "cell_type": "code",
   "execution_count": 8,
   "metadata": {
    "execution": {
     "iopub.execute_input": "2021-03-13T00:07:15.565173Z",
     "iopub.status.busy": "2021-03-13T00:07:15.564104Z",
     "iopub.status.idle": "2021-03-13T00:07:15.570079Z",
     "shell.execute_reply": "2021-03-13T00:07:15.569479Z"
    },
    "id": "Sd8fSpt9Y67p",
    "papermill": {
     "duration": 0.057848,
     "end_time": "2021-03-13T00:07:15.570231",
     "exception": false,
     "start_time": "2021-03-13T00:07:15.512383",
     "status": "completed"
    },
    "tags": []
   },
   "outputs": [],
   "source": [
    "X = df.iloc[:, 0:754].values  # select the independent variables\n",
    "y = df.iloc[:, 754].values    # select the dependent variable and target column"
   ]
  },
  {
   "cell_type": "code",
   "execution_count": 11,
   "metadata": {},
   "outputs": [
    {
     "data": {
      "text/plain": [
       "array([1, 1, 1, 1, 1, 1, 1, 1, 1, 1, 1, 1, 1, 1, 1, 1, 1, 1, 1, 1, 1, 1,\n",
       "       1, 1, 1, 1, 1, 1, 1, 1, 1, 1, 1, 0, 0, 0, 1, 1, 1, 1, 1, 1, 0, 0,\n",
       "       0, 1, 1, 1, 1, 1, 1, 1, 1, 1, 1, 1, 1, 1, 1, 1, 1, 1, 1, 1, 1, 1,\n",
       "       1, 1, 1, 1, 1, 1, 0, 0, 0, 1, 1, 1, 0, 0, 0, 0, 0, 0, 1, 1, 1, 0,\n",
       "       0, 0, 1, 1, 1, 1, 1, 1, 1, 1, 1, 0, 0, 0, 0, 0, 0, 1, 1, 1, 1, 1,\n",
       "       1, 1, 1, 1, 1, 1, 1, 1, 1, 1, 1, 1, 1, 0, 0, 0, 0, 0, 0, 1, 1, 1,\n",
       "       1, 1, 1, 0, 0, 0, 1, 1, 1, 0, 0, 0, 0, 0, 0, 0, 0, 0, 1, 1, 1, 1,\n",
       "       1, 1, 1, 1, 1, 1, 1, 1, 1, 1, 1, 1, 1, 1, 1, 1, 1, 1, 1, 1, 1, 1,\n",
       "       1, 1, 1, 1, 1, 1, 1, 1, 1, 1, 1, 1, 1, 1, 1, 1, 1, 1, 1, 0, 0, 0,\n",
       "       1, 1, 1, 1, 1, 1, 1, 1, 1, 0, 0, 0, 1, 1, 1, 1, 1, 1, 1, 1, 1, 0,\n",
       "       0, 0, 1, 1, 1, 0, 0, 0, 1, 1, 1, 1, 1, 1, 0, 0, 0, 1, 1, 1, 1, 1,\n",
       "       1, 1, 1, 1, 1, 1, 1, 0, 0, 0, 1, 1, 1, 1, 1, 1, 1, 1, 1, 1, 1, 1,\n",
       "       1, 1, 1, 0, 0, 0, 1, 1, 1, 1, 1, 1, 1, 1, 1, 1, 1, 1, 1, 1, 1, 1,\n",
       "       1, 1, 0, 0, 0, 1, 1, 1, 1, 1, 1, 1, 1, 1, 1, 1, 1, 1, 1, 1, 1, 1,\n",
       "       1, 0, 0, 0, 1, 1, 1, 1, 1, 1, 1, 1, 1, 1, 1, 1, 1, 1, 1, 1, 1, 1,\n",
       "       1, 1, 1, 0, 0, 0, 1, 1, 1, 1, 1, 1, 1, 1, 1, 1, 1, 1, 1, 1, 1, 1,\n",
       "       1, 1, 1, 1, 1, 0, 0, 0, 1, 1, 1, 1, 1, 1, 1, 1, 1, 0, 0, 0, 1, 1,\n",
       "       1, 0, 0, 0, 1, 1, 1, 1, 1, 1, 1, 1, 1, 1, 1, 1, 0, 0, 0, 0, 0, 0,\n",
       "       0, 0, 0, 1, 1, 1, 1, 1, 1, 0, 0, 0, 0, 0, 0, 1, 1, 1, 1, 1, 1, 1,\n",
       "       1, 1, 1, 1, 1, 1, 1, 1, 1, 1, 1, 1, 1, 1, 1, 1, 1, 1, 1, 1, 1, 1,\n",
       "       1, 1, 1, 1, 1, 1, 1, 0, 0, 0, 1, 1, 1, 1, 1, 1, 1, 1, 1, 0, 0, 0,\n",
       "       1, 1, 1, 1, 1, 1, 0, 0, 0, 0, 0, 0, 1, 1, 1, 1, 1, 1, 1, 1, 1, 1,\n",
       "       1, 1, 1, 1, 1, 0, 0, 0, 1, 1, 1, 1, 1, 1, 1, 1, 1, 1, 1, 1, 1, 1,\n",
       "       1, 1, 1, 1, 1, 1, 1, 1, 1, 1, 1, 1, 1, 0, 0, 0, 1, 1, 1, 1, 1, 1,\n",
       "       1, 1, 1, 1, 1, 1, 0, 0, 0, 1, 1, 1, 0, 0, 0, 1, 1, 1, 1, 1, 1, 1,\n",
       "       1, 1, 1, 1, 1, 1, 1, 1, 1, 1, 1, 0, 0, 0, 1, 1, 1, 0, 0, 0, 1, 1,\n",
       "       1, 1, 1, 1, 0, 0, 0, 1, 1, 1, 0, 0, 0, 0, 0, 0, 0, 0, 0, 1, 1, 1,\n",
       "       0, 0, 0, 1, 1, 1, 1, 1, 1, 1, 1, 1, 1, 1, 1, 0, 0, 0, 1, 1, 1, 1,\n",
       "       1, 1, 1, 1, 1, 1, 1, 1, 1, 1, 1, 1, 1, 1, 0, 0, 0, 1, 1, 1, 1, 1,\n",
       "       1, 0, 0, 0, 1, 1, 1, 1, 1, 1, 0, 0, 0, 1, 1, 1, 1, 1, 1, 0, 0, 0,\n",
       "       1, 1, 1, 0, 0, 0, 0, 0, 0, 1, 1, 1, 1, 1, 1, 1, 1, 1, 1, 1, 1, 1,\n",
       "       1, 1, 1, 1, 1, 1, 1, 1, 1, 1, 1, 1, 1, 1, 0, 0, 0, 1, 1, 1, 0, 0,\n",
       "       0, 0, 0, 0, 1, 1, 1, 0, 0, 0, 1, 1, 1, 1, 1, 1, 1, 1, 1, 1, 1, 1,\n",
       "       0, 0, 0, 1, 1, 1, 0, 0, 0, 0, 0, 0, 0, 0, 0, 1, 1, 1, 1, 1, 1, 1,\n",
       "       1, 1, 0, 0, 0, 0, 0, 0], dtype=int64)"
      ]
     },
     "execution_count": 11,
     "metadata": {},
     "output_type": "execute_result"
    }
   ],
   "source": [
    "y"
   ]
  },
  {
   "cell_type": "markdown",
   "metadata": {
    "id": "4qFtCulY9aIv",
    "papermill": {
     "duration": 0.044426,
     "end_time": "2021-03-13T00:07:15.661460",
     "exception": false,
     "start_time": "2021-03-13T00:07:15.617034",
     "status": "completed"
    },
    "tags": []
   },
   "source": [
    "**Data Standardization**\n"
   ]
  },
  {
   "cell_type": "code",
   "execution_count": 12,
   "metadata": {
    "execution": {
     "iopub.execute_input": "2021-03-13T00:07:15.754353Z",
     "iopub.status.busy": "2021-03-13T00:07:15.753648Z",
     "iopub.status.idle": "2021-03-13T00:07:16.756409Z",
     "shell.execute_reply": "2021-03-13T00:07:16.756985Z"
    },
    "id": "-kzOamil7LOc",
    "papermill": {
     "duration": 1.051058,
     "end_time": "2021-03-13T00:07:16.757179",
     "exception": false,
     "start_time": "2021-03-13T00:07:15.706121",
     "status": "completed"
    },
    "tags": []
   },
   "outputs": [],
   "source": [
    "from sklearn.preprocessing import StandardScaler\n",
    "X = StandardScaler().fit_transform(X)"
   ]
  },
  {
   "cell_type": "markdown",
   "metadata": {
    "id": "gqjEyzZor0ap",
    "papermill": {
     "duration": 0.045378,
     "end_time": "2021-03-13T00:07:16.848361",
     "exception": false,
     "start_time": "2021-03-13T00:07:16.802983",
     "status": "completed"
    },
    "tags": []
   },
   "source": [
    "# Step 2: Eigendecomposition - Eigenvalues, Eigenvectors and Eigenspace \n",
    "The eigenvectors and eigenvalues of a covariance (or correlation) matrix represent the \"core\" of a PCA: The eigenvectors (elementary components) determine the directions of the new feature space, and the eigenvalues determine their size. In other words, eigenvalues describe the variance of the data along the new feature axes. Covariance Matrix The classical approach to PCA is to perform eigende composition on the covariance matrix, which is a matrix in which each element represents the covariance between two features. The covariance between two properties is calculated as follows:\n",
    "\n",
    "Cov(X,Y)=∑(xi−x¯)(yi−y¯)N−1\n"
   ]
  },
  {
   "cell_type": "markdown",
   "metadata": {
    "id": "1r8c2uBwPk8v",
    "papermill": {
     "duration": 0.044727,
     "end_time": "2021-03-13T00:07:16.938198",
     "exception": false,
     "start_time": "2021-03-13T00:07:16.893471",
     "status": "completed"
    },
    "tags": []
   },
   "source": [
    "**Compute the covariance matrix**"
   ]
  },
  {
   "cell_type": "code",
   "execution_count": 13,
   "metadata": {
    "execution": {
     "iopub.execute_input": "2021-03-13T00:07:17.032820Z",
     "iopub.status.busy": "2021-03-13T00:07:17.031827Z",
     "iopub.status.idle": "2021-03-13T00:07:17.673847Z",
     "shell.execute_reply": "2021-03-13T00:07:17.674516Z"
    },
    "id": "dcCaEEa17LUD",
    "outputId": "aaf8fee9-ed87-45b1-f054-b3d45e9cf3b6",
    "papermill": {
     "duration": 0.69125,
     "end_time": "2021-03-13T00:07:17.674694",
     "exception": false,
     "start_time": "2021-03-13T00:07:16.983444",
     "status": "completed"
    },
    "tags": []
   },
   "outputs": [
    {
     "name": "stdout",
     "output_type": "stream",
     "text": [
      "Covariance matrix \n",
      "[[ 1.0013245  -0.13378215  0.02670192 ... -0.05811108 -0.05788379\n",
      "  -0.05584903]\n",
      " [-0.13378215  1.0013245   0.01018855 ...  0.12910653  0.10787687\n",
      "   0.10496656]\n",
      " [ 0.02670192  0.01018855  1.0013245  ...  0.04623629  0.03743406\n",
      "   0.03964023]\n",
      " ...\n",
      " [-0.05811108  0.12910653  0.04623629 ...  1.0013245   0.94926382\n",
      "   0.7861811 ]\n",
      " [-0.05788379  0.10787687  0.03743406 ...  0.94926382  1.0013245\n",
      "   0.86784425]\n",
      " [-0.05584903  0.10496656  0.03964023 ...  0.7861811   0.86784425\n",
      "   1.0013245 ]]\n"
     ]
    }
   ],
   "source": [
    "import numpy as np\n",
    "\n",
    "X_mean = np.mean(X, axis=0)\n",
    "# cov_mat = np.cov(X) # another method \n",
    "cov_mat = (X - X_mean).T.dot((X - X_mean)) / (X.shape[0]-1)\n",
    "print('Covariance matrix \\n%s' %cov_mat)"
   ]
  },
  {
   "cell_type": "markdown",
   "metadata": {
    "id": "oBg9FovJyim1",
    "papermill": {
     "duration": 0.045922,
     "end_time": "2021-03-13T00:07:17.766068",
     "exception": false,
     "start_time": "2021-03-13T00:07:17.720146",
     "status": "completed"
    },
    "tags": []
   },
   "source": [
    "**The second method for compute the covariance matrix**"
   ]
  },
  {
   "cell_type": "code",
   "execution_count": 14,
   "metadata": {
    "execution": {
     "iopub.execute_input": "2021-03-13T00:07:17.863942Z",
     "iopub.status.busy": "2021-03-13T00:07:17.862523Z",
     "iopub.status.idle": "2021-03-13T00:07:18.184471Z",
     "shell.execute_reply": "2021-03-13T00:07:18.183960Z"
    },
    "id": "qqCCG6kWyXlW",
    "outputId": "9422e4c7-c90e-4baf-f1de-2afcd58b5a1a",
    "papermill": {
     "duration": 0.373034,
     "end_time": "2021-03-13T00:07:18.184618",
     "exception": false,
     "start_time": "2021-03-13T00:07:17.811584",
     "status": "completed"
    },
    "tags": []
   },
   "outputs": [
    {
     "name": "stdout",
     "output_type": "stream",
     "text": [
      "NumPy covariance matrix: \n",
      "[[ 1.0013245  -0.13378215  0.02670192 ... -0.05811108 -0.05788379\n",
      "  -0.05584903]\n",
      " [-0.13378215  1.0013245   0.01018855 ...  0.12910653  0.10787687\n",
      "   0.10496656]\n",
      " [ 0.02670192  0.01018855  1.0013245  ...  0.04623629  0.03743406\n",
      "   0.03964023]\n",
      " ...\n",
      " [-0.05811108  0.12910653  0.04623629 ...  1.0013245   0.94926382\n",
      "   0.7861811 ]\n",
      " [-0.05788379  0.10787687  0.03743406 ...  0.94926382  1.0013245\n",
      "   0.86784425]\n",
      " [-0.05584903  0.10496656  0.03964023 ...  0.7861811   0.86784425\n",
      "   1.0013245 ]]\n"
     ]
    }
   ],
   "source": [
    "print('NumPy covariance matrix: \\n%s' %np.cov(X.T))"
   ]
  },
  {
   "cell_type": "markdown",
   "metadata": {
    "id": "l5PE7jXmsIP7",
    "papermill": {
     "duration": 0.046733,
     "end_time": "2021-03-13T00:07:18.276950",
     "exception": false,
     "start_time": "2021-03-13T00:07:18.230217",
     "status": "completed"
    },
    "tags": []
   },
   "source": [
    "**Compute the Eigenvalues and Eigenvectors**\n",
    "We make an identification on the covariance matrix: All three approaches yield the same eigenvectors and eigenvalue pairs: Identification of the covariance matrix after standardizing the data. Essence composition of the correlation matrix."
   ]
  },
  {
   "cell_type": "code",
   "execution_count": 15,
   "metadata": {
    "execution": {
     "iopub.execute_input": "2021-03-13T00:07:18.373328Z",
     "iopub.status.busy": "2021-03-13T00:07:18.372660Z",
     "iopub.status.idle": "2021-03-13T00:07:19.877329Z",
     "shell.execute_reply": "2021-03-13T00:07:19.878159Z"
    },
    "id": "wILOik2p8Yco",
    "outputId": "e1bbf199-6ea4-425c-ce8f-e6e54eff3c5f",
    "papermill": {
     "duration": 1.555798,
     "end_time": "2021-03-13T00:07:19.878392",
     "exception": false,
     "start_time": "2021-03-13T00:07:18.322594",
     "status": "completed"
    },
    "tags": []
   },
   "outputs": [
    {
     "name": "stdout",
     "output_type": "stream",
     "text": [
      "Eigenvectors \n",
      "[[-7.34343947e-03 -1.16719053e-03  6.51538260e-03 ...  9.65305801e-09\n",
      "  -1.03919510e-06  4.48024718e-07]\n",
      " [ 4.50265736e-02 -4.70096509e-02 -6.29257413e-03 ... -1.34574766e-07\n",
      "  -8.83999313e-07 -6.31420042e-06]\n",
      " [-1.73695965e-02 -1.04538133e-02 -5.76635105e-02 ...  2.33494166e-08\n",
      "   2.60437003e-06 -6.82636594e-06]\n",
      " [ 4.92192614e-02 -2.46931648e-03  1.58072835e-03 ...  1.47522516e-07\n",
      "   6.92927735e-06 -2.14875652e-05]\n",
      " [ 5.49956743e-02 -4.58086092e-03  4.95065904e-02 ... -4.38392747e-08\n",
      "   5.68029739e-06 -7.60266017e-06]]\n",
      "\n",
      "Eigenvalues \n",
      "[97.73833579 70.80079574 62.22641008 32.3546798  26.90448685]\n"
     ]
    }
   ],
   "source": [
    "eigenvalues, eigenvectors = np.linalg.eig(cov_mat)\n",
    "\n",
    "print('Eigenvectors \\n%s' %eigenvectors[:5])\n",
    "print('\\nEigenvalues \\n%s' %eigenvalues[:5])"
   ]
  },
  {
   "cell_type": "code",
   "execution_count": 13,
   "metadata": {
    "execution": {
     "iopub.execute_input": "2021-03-13T00:07:19.976225Z",
     "iopub.status.busy": "2021-03-13T00:07:19.975566Z",
     "iopub.status.idle": "2021-03-13T00:07:19.979477Z",
     "shell.execute_reply": "2021-03-13T00:07:19.978837Z"
    },
    "id": "LejpVHeulZvl",
    "outputId": "58f11486-c649-46e3-8356-916dfc8e6a1d",
    "papermill": {
     "duration": 0.054784,
     "end_time": "2021-03-13T00:07:19.979623",
     "exception": false,
     "start_time": "2021-03-13T00:07:19.924839",
     "status": "completed"
    },
    "tags": []
   },
   "outputs": [
    {
     "data": {
      "text/plain": [
       "754"
      ]
     },
     "execution_count": 13,
     "metadata": {},
     "output_type": "execute_result"
    }
   ],
   "source": [
    "len(eigenvalues)"
   ]
  },
  {
   "cell_type": "markdown",
   "metadata": {
    "id": "UHYw1Mj_sYGv",
    "papermill": {
     "duration": 0.04703,
     "end_time": "2021-03-13T00:07:20.073598",
     "exception": false,
     "start_time": "2021-03-13T00:07:20.026568",
     "status": "completed"
    },
    "tags": []
   },
   "source": [
    "# **Step 3: Primary Component Selection**\n",
    "Sorting Eigenpairs (Sorting of self-pairs)\n",
    "  The purpose of PCA is to reduce the dimensionality of the original feature space by projecting it into a smaller subspace where the eigenvectors will form the axes. However, the eigenvectors only describe the directions of the new axis, because they all have the same unit length 1.To decide which eigenvector (s) can be omitted without losing too much information, we need to examine the corresponding eigenvalues: Eigenvectors with the lowest eigenvalues carries little information; these can fall. The common approach is to order the eigenvalues from highest to lowest."
   ]
  },
  {
   "cell_type": "markdown",
   "metadata": {
    "id": "mKfTYjODNg4m",
    "papermill": {
     "duration": 0.0463,
     "end_time": "2021-03-13T00:07:20.166483",
     "exception": false,
     "start_time": "2021-03-13T00:07:20.120183",
     "status": "completed"
    },
    "tags": []
   },
   "source": [
    "**Compute the variance of eigen values**\n",
    "We select only first 6 features for this project"
   ]
  },
  {
   "cell_type": "code",
   "execution_count": 16,
   "metadata": {
    "execution": {
     "iopub.execute_input": "2021-03-13T00:07:20.263077Z",
     "iopub.status.busy": "2021-03-13T00:07:20.262458Z",
     "iopub.status.idle": "2021-03-13T00:07:20.271848Z",
     "shell.execute_reply": "2021-03-13T00:07:20.271249Z"
    },
    "id": "a23cf_sENmLI",
    "outputId": "9c69f8c3-414f-4fb5-c904-a1403647319f",
    "papermill": {
     "duration": 0.058724,
     "end_time": "2021-03-13T00:07:20.272005",
     "exception": false,
     "start_time": "2021-03-13T00:07:20.213281",
     "status": "completed"
    },
    "tags": []
   },
   "outputs": [
    {
     "data": {
      "text/plain": [
       "[12.945497649128221,\n",
       " 9.377605291277405,\n",
       " 8.241923079119951,\n",
       " 4.285395570467562,\n",
       " 3.563514443250979,\n",
       " 2.992421117144732,\n",
       " 2.50824799138592,\n",
       " 2.211802240978647,\n",
       " 2.0327945235077918,\n",
       " 1.8219685053528067,\n",
       " 1.764887618922754,\n",
       " 1.4932749143002968,\n",
       " 1.30515358943006,\n",
       " 1.271242748039766,\n",
       " 1.2675001467996359,\n",
       " 1.1662274492028095,\n",
       " 1.067750828584221,\n",
       " 1.0569704086230718,\n",
       " 0.948421375982152,\n",
       " 0.9343986018183823,\n",
       " 0.8664490917172963,\n",
       " 0.8054486120155179,\n",
       " 0.7619017160440678,\n",
       " 0.7386731197986595,\n",
       " 0.6675490829100312,\n",
       " 0.6269640033489295,\n",
       " 0.6230528890774691,\n",
       " 0.6081042667178629,\n",
       " 0.5863152359934476,\n",
       " 0.5587794280264594,\n",
       " 0.5263561269283525,\n",
       " 0.521934023852452,\n",
       " 0.49848971279815485,\n",
       " 0.4815530140957352,\n",
       " 0.4692146311775066,\n",
       " 0.45737160607826177,\n",
       " 0.441115975012487,\n",
       " 0.4154045147379747,\n",
       " 0.40295019727398945,\n",
       " 0.3806075514009982,\n",
       " 0.3772762864733803,\n",
       " 0.3687919504110242,\n",
       " 0.36037333481328276,\n",
       " 0.3503888439964801,\n",
       " 0.34600638834247177,\n",
       " 0.34150382897913806,\n",
       " 0.33567533888366946,\n",
       " 0.31494259655231943,\n",
       " 0.3126777263417163,\n",
       " 0.30582535233186275]"
      ]
     },
     "execution_count": 16,
     "metadata": {},
     "output_type": "execute_result"
    }
   ],
   "source": [
    "total_of_eigenvalues = sum(eigenvalues)\n",
    "varariance = [(i / total_of_eigenvalues)*100 for i in sorted(eigenvalues, reverse=True)]\n",
    "\n",
    "varariance[:50]"
   ]
  },
  {
   "cell_type": "markdown",
   "metadata": {
    "id": "Nu5Wsa-MQtiR",
    "papermill": {
     "duration": 0.046815,
     "end_time": "2021-03-13T00:07:20.366167",
     "exception": false,
     "start_time": "2021-03-13T00:07:20.319352",
     "status": "completed"
    },
    "tags": []
   },
   "source": [
    "**As seen in the figure, the properties after 350 affect the target column by 0. These do not have any effect on the functioning of the model.**"
   ]
  },
  {
   "cell_type": "code",
   "execution_count": 17,
   "metadata": {
    "execution": {
     "iopub.execute_input": "2021-03-13T00:07:20.463699Z",
     "iopub.status.busy": "2021-03-13T00:07:20.463060Z",
     "iopub.status.idle": "2021-03-13T00:07:22.662244Z",
     "shell.execute_reply": "2021-03-13T00:07:22.662692Z"
    },
    "id": "th7S14NAgxyY",
    "outputId": "6fa59754-3a15-4ec3-df80-416520f5dbd9",
    "papermill": {
     "duration": 2.249693,
     "end_time": "2021-03-13T00:07:22.662895",
     "exception": false,
     "start_time": "2021-03-13T00:07:20.413202",
     "status": "completed"
    },
    "tags": []
   },
   "outputs": [
    {
     "data": {
      "image/png": "[encoded data removed]",
      "text/plain": [
       "<Figure size 1080x720 with 1 Axes>"
      ]
     },
     "metadata": {},
     "output_type": "display_data"
    }
   ],
   "source": [
    "\n",
    "import matplotlib.pyplot as plt\n",
    "\n",
    "with plt.style.context('dark_background'):\n",
    "    plt.figure(figsize=(15, 10))\n",
    "\n",
    "    plt.bar(range(len(eigenvalues)), varariance, alpha=0.8, align='center',\n",
    "            label='individual explained variance')\n",
    "    plt.ylabel('Explained variance ratio')\n",
    "    plt.xlabel('Principal components')\n",
    "    plt.legend(loc='best')\n",
    "    plt.tight_layout()"
   ]
  },
  {
   "cell_type": "code",
   "execution_count": 18,
   "metadata": {
    "execution": {
     "iopub.execute_input": "2021-03-13T00:07:22.762689Z",
     "iopub.status.busy": "2021-03-13T00:07:22.762082Z",
     "iopub.status.idle": "2021-03-13T00:07:22.766662Z",
     "shell.execute_reply": "2021-03-13T00:07:22.767253Z"
    },
    "id": "_Co0s4XWgxSY",
    "outputId": "c1b756df-32ea-4712-ee6d-8fe5dae70050",
    "papermill": {
     "duration": 0.056352,
     "end_time": "2021-03-13T00:07:22.767418",
     "exception": false,
     "start_time": "2021-03-13T00:07:22.711066",
     "status": "completed"
    },
    "tags": []
   },
   "outputs": [
    {
     "data": {
      "text/plain": [
       "12.945497649128221"
      ]
     },
     "execution_count": 18,
     "metadata": {},
     "output_type": "execute_result"
    }
   ],
   "source": [
    "varariance[0]"
   ]
  },
  {
   "cell_type": "markdown",
   "metadata": {
    "id": "yNAvZ9BotZU5",
    "papermill": {
     "duration": 0.048462,
     "end_time": "2021-03-13T00:07:22.864434",
     "exception": false,
     "start_time": "2021-03-13T00:07:22.815972",
     "status": "completed"
    },
    "tags": []
   },
   "source": [
    "**Projection Matrix** \n",
    "The projection matrix is used to transform the Input data (X) into the new property subspace. The Projection Matrix is a matrix of combined upper k eigenvectors. Here, we reduce the 4-dimensional feature space to a 2-dimensional feature subspace by selecting the \"first 2\" eigenvectors with the highest eigenvalues to construct our 2 dimensional eigenvector matrix."
   ]
  },
  {
   "cell_type": "code",
   "execution_count": 19,
   "metadata": {
    "execution": {
     "iopub.execute_input": "2021-03-13T00:07:22.967718Z",
     "iopub.status.busy": "2021-03-13T00:07:22.967094Z",
     "iopub.status.idle": "2021-03-13T00:07:23.101045Z",
     "shell.execute_reply": "2021-03-13T00:07:23.100447Z"
    },
    "id": "l1j3YniHqpnp",
    "outputId": "1c0d6387-1a87-433b-f1c9-adcde6ae305e",
    "papermill": {
     "duration": 0.186431,
     "end_time": "2021-03-13T00:07:23.101191",
     "exception": false,
     "start_time": "2021-03-13T00:07:22.914760",
     "status": "completed"
    },
    "tags": []
   },
   "outputs": [
    {
     "data": {
      "text/plain": [
       "97.73833578737317"
      ]
     },
     "execution_count": 19,
     "metadata": {},
     "output_type": "execute_result"
    }
   ],
   "source": [
    "eigenpairs = [(np.abs(eigenvalues[i]), eigenvectors[:,i]) for i in range(len(eigenvalues))]\n",
    "\n",
    "# Sorting eigenvalues and eigenvectors from higher values to lower values\n",
    "eigenpairs.sort(key=lambda x: x[0], reverse=True)\n",
    "\n",
    "eigenpairs[0][0]"
   ]
  },
  {
   "cell_type": "code",
   "execution_count": 20,
   "metadata": {
    "execution": {
     "iopub.execute_input": "2021-03-13T00:07:23.204717Z",
     "iopub.status.busy": "2021-03-13T00:07:23.204094Z",
     "iopub.status.idle": "2021-03-13T00:07:23.208669Z",
     "shell.execute_reply": "2021-03-13T00:07:23.208046Z"
    },
    "id": "BNjvElOIsC-d",
    "outputId": "4e46b206-5b92-49e0-9046-8b066cf3b90d",
    "papermill": {
     "duration": 0.058362,
     "end_time": "2021-03-13T00:07:23.208806",
     "exception": false,
     "start_time": "2021-03-13T00:07:23.150444",
     "status": "completed"
    },
    "tags": []
   },
   "outputs": [
    {
     "data": {
      "text/plain": [
       "(754,)"
      ]
     },
     "execution_count": 20,
     "metadata": {},
     "output_type": "execute_result"
    }
   ],
   "source": [
    "eigenpairs[5][1].shape"
   ]
  },
  {
   "cell_type": "code",
   "execution_count": 21,
   "metadata": {
    "execution": {
     "iopub.execute_input": "2021-03-13T00:07:23.313245Z",
     "iopub.status.busy": "2021-03-13T00:07:23.312614Z",
     "iopub.status.idle": "2021-03-13T00:07:23.320607Z",
     "shell.execute_reply": "2021-03-13T00:07:23.321105Z"
    },
    "id": "GTfgCF3Xs3uD",
    "outputId": "875b4e34-1aa0-4578-bdc2-8e032c610c98",
    "papermill": {
     "duration": 0.062254,
     "end_time": "2021-03-13T00:07:23.321283",
     "exception": false,
     "start_time": "2021-03-13T00:07:23.259029",
     "status": "completed"
    },
    "tags": []
   },
   "outputs": [
    {
     "data": {
      "text/plain": [
       "array([[-0.00734344, -0.00116719,  0.00651538, -0.01492142, -0.02300192,\n",
       "        -0.02108613],\n",
       "       [ 0.04502657, -0.04700965, -0.00629257,  0.02420969,  0.01025892,\n",
       "        -0.0093586 ],\n",
       "       [-0.0173696 , -0.01045381, -0.05766351,  0.01222901, -0.0054791 ,\n",
       "        -0.02363094],\n",
       "       ...,\n",
       "       [ 0.01324704,  0.00858509, -0.0217637 ,  0.01327137,  0.03581234,\n",
       "         0.023377  ],\n",
       "       [ 0.01942424,  0.01718094, -0.02271759,  0.01791082,  0.02336868,\n",
       "         0.02014452],\n",
       "       [ 0.02902069,  0.03571027, -0.02900893,  0.02433487,  0.01406922,\n",
       "         0.01866721]])"
      ]
     },
     "execution_count": 21,
     "metadata": {},
     "output_type": "execute_result"
    }
   ],
   "source": [
    "# only for 6 features \n",
    "matrix_weighing = np.hstack((eigenpairs[0][1].reshape(754,1),\n",
    "                      eigenpairs[1][1].reshape(754,1),\n",
    "                      eigenpairs[2][1].reshape(754,1),\n",
    "                      eigenpairs[3][1].reshape(754,1),\n",
    "                      eigenpairs[4][1].reshape(754,1),\n",
    "                      eigenpairs[5][1].reshape(754,1)))\n",
    "matrix_weighing"
   ]
  },
  {
   "cell_type": "markdown",
   "metadata": {
    "id": "CHfhl3KJvbe-",
    "papermill": {
     "duration": 0.051285,
     "end_time": "2021-03-13T00:07:23.422789",
     "exception": false,
     "start_time": "2021-03-13T00:07:23.371504",
     "status": "completed"
    },
    "tags": []
   },
   "source": [
    "# **Step 4: Projection in a New Feature Space**"
   ]
  },
  {
   "cell_type": "markdown",
   "metadata": {
    "id": "crk46hKxwHQD",
    "papermill": {
     "duration": 0.049649,
     "end_time": "2021-03-13T00:07:23.522419",
     "exception": false,
     "start_time": "2021-03-13T00:07:23.472770",
     "status": "completed"
    },
    "tags": []
   },
   "source": [
    "Projection into the New Feature Space In this last step, we will use the 754 × 6 dimensional projection matrix W to transform our samples into the new hexahedron through the equation Y = X × W."
   ]
  },
  {
   "cell_type": "code",
   "execution_count": 22,
   "metadata": {
    "execution": {
     "iopub.execute_input": "2021-03-13T00:07:23.626072Z",
     "iopub.status.busy": "2021-03-13T00:07:23.625456Z",
     "iopub.status.idle": "2021-03-13T00:07:23.635358Z",
     "shell.execute_reply": "2021-03-13T00:07:23.635904Z"
    },
    "id": "s2DqmqYKsDaY",
    "outputId": "d9277f11-4b9d-483f-e3a7-ac99f1efbe39",
    "papermill": {
     "duration": 0.063617,
     "end_time": "2021-03-13T00:07:23.636102",
     "exception": false,
     "start_time": "2021-03-13T00:07:23.572485",
     "status": "completed"
    },
    "tags": []
   },
   "outputs": [
    {
     "data": {
      "text/plain": [
       "(756, 6)"
      ]
     },
     "execution_count": 22,
     "metadata": {},
     "output_type": "execute_result"
    }
   ],
   "source": [
    "Y = X.dot(matrix_weighing)\n",
    "Y.shape"
   ]
  },
  {
   "cell_type": "code",
   "execution_count": 23,
   "metadata": {
    "execution": {
     "iopub.execute_input": "2021-03-13T00:07:23.742421Z",
     "iopub.status.busy": "2021-03-13T00:07:23.741401Z",
     "iopub.status.idle": "2021-03-13T00:07:23.750428Z",
     "shell.execute_reply": "2021-03-13T00:07:23.749782Z"
    },
    "id": "dxzAktlSwuJz",
    "outputId": "81b07603-9245-4dd5-fae3-b8ac9353ddf1",
    "papermill": {
     "duration": 0.06317,
     "end_time": "2021-03-13T00:07:23.750566",
     "exception": false,
     "start_time": "2021-03-13T00:07:23.687396",
     "status": "completed"
    },
    "tags": []
   },
   "outputs": [
    {
     "data": {
      "text/plain": [
       "array([1, 0], dtype=int64)"
      ]
     },
     "execution_count": 23,
     "metadata": {},
     "output_type": "execute_result"
    }
   ],
   "source": [
    "df[\"class\"].unique()"
   ]
  },
  {
   "cell_type": "code",
   "execution_count": 24,
   "metadata": {
    "execution": {
     "iopub.execute_input": "2021-03-13T00:07:23.879575Z",
     "iopub.status.busy": "2021-03-13T00:07:23.878226Z",
     "iopub.status.idle": "2021-03-13T00:07:24.074102Z",
     "shell.execute_reply": "2021-03-13T00:07:24.073559Z"
    },
    "id": "nA3IHy8BwN0W",
    "outputId": "57a0603d-61e1-4f74-a35e-92a1aa1d22b5",
    "papermill": {
     "duration": 0.272168,
     "end_time": "2021-03-13T00:07:24.074250",
     "exception": false,
     "start_time": "2021-03-13T00:07:23.802082",
     "status": "completed"
    },
    "tags": []
   },
   "outputs": [
    {
     "name": "stderr",
     "output_type": "stream",
     "text": [
      "C:\\Users\\Rushi Computers\\AppData\\Local\\Temp\\ipykernel_16160\\4244565923.py:6: FutureWarning: elementwise comparison failed; returning scalar instead, but in the future will perform elementwise comparison\n",
      "  plt.scatter(Y[y==lab, 0], Y[y==lab, 1], label=lab, c=col)\n"
     ]
    },
    {
     "data": {
      "image/png": "[encoded data removed]",
      "text/plain": [
       "<Figure size 432x288 with 1 Axes>"
      ]
     },
     "metadata": {},
     "output_type": "display_data"
    }
   ],
   "source": [
    "import matplotlib.pyplot as plt\n",
    "\n",
    "with plt.style.context('seaborn-whitegrid'):\n",
    "    plt.figure(figsize=(6, 4))\n",
    "    for lab, col in zip(('0', '1'), ('red', 'green')):\n",
    "        plt.scatter(Y[y==lab, 0], Y[y==lab, 1], label=lab, c=col)\n",
    "    plt.xlabel('Principal Component 1')\n",
    "    plt.ylabel('Principal Component 2')\n",
    "    plt.legend(loc='lower center')\n",
    "    plt.tight_layout();\n",
    "    plt.show();"
   ]
  },
  {
   "cell_type": "markdown",
   "metadata": {
    "id": "rdj9uFR40Msn",
    "papermill": {
     "duration": 0.052514,
     "end_time": "2021-03-13T00:07:24.179516",
     "exception": false,
     "start_time": "2021-03-13T00:07:24.127002",
     "status": "completed"
    },
    "tags": []
   },
   "source": [
    "# **Step 5: Principal Component Analysis (PCA)**"
   ]
  },
  {
   "cell_type": "code",
   "execution_count": 25,
   "metadata": {
    "execution": {
     "iopub.execute_input": "2021-03-13T00:07:24.291724Z",
     "iopub.status.busy": "2021-03-13T00:07:24.290975Z",
     "iopub.status.idle": "2021-03-13T00:07:24.984803Z",
     "shell.execute_reply": "2021-03-13T00:07:24.985445Z"
    },
    "id": "JcJXe2KSwOJ4",
    "outputId": "bcb1a65f-8d16-41a4-e031-659945fef3a9",
    "papermill": {
     "duration": 0.753552,
     "end_time": "2021-03-13T00:07:24.985658",
     "exception": false,
     "start_time": "2021-03-13T00:07:24.232106",
     "status": "completed"
    },
    "tags": []
   },
   "outputs": [
    {
     "data": {
      "text/plain": [
       "Text(0, 0.5, 'Cumulative explained variance')"
      ]
     },
     "execution_count": 25,
     "metadata": {},
     "output_type": "execute_result"
    },
    {
     "data": {
      "image/png": "[encoded data removed]",
      "text/plain": [
       "<Figure size 432x288 with 1 Axes>"
      ]
     },
     "metadata": {
      "needs_background": "light"
     },
     "output_type": "display_data"
    }
   ],
   "source": [
    "from sklearn.decomposition import PCA\n",
    "pca = PCA().fit(X)\n",
    "plt.plot(np.cumsum(pca.explained_variance_ratio_))\n",
    "plt.xlim(0,754,1)\n",
    "plt.grid()\n",
    "plt.xlabel('Number of components')\n",
    "plt.ylabel('Cumulative explained variance')"
   ]
  },
  {
   "cell_type": "markdown",
   "metadata": {
    "id": "-ThzaNZrR781",
    "papermill": {
     "duration": 0.053486,
     "end_time": "2021-03-13T00:07:25.093839",
     "exception": false,
     "start_time": "2021-03-13T00:07:25.040353",
     "status": "completed"
    },
    "tags": []
   },
   "source": [
    "**Division of training and test data**"
   ]
  },
  {
   "cell_type": "code",
   "execution_count": 26,
   "metadata": {
    "execution": {
     "iopub.execute_input": "2021-03-13T00:07:25.208513Z",
     "iopub.status.busy": "2021-03-13T00:07:25.207809Z",
     "iopub.status.idle": "2021-03-13T00:07:25.214550Z",
     "shell.execute_reply": "2021-03-13T00:07:25.214016Z"
    },
    "id": "FbpSjZtKZH-8",
    "papermill": {
     "duration": 0.066776,
     "end_time": "2021-03-13T00:07:25.214699",
     "exception": false,
     "start_time": "2021-03-13T00:07:25.147923",
     "status": "completed"
    },
    "tags": []
   },
   "outputs": [],
   "source": [
    "# eğitim ve test kümelerinin bölünmesi\n",
    "from sklearn.model_selection import train_test_split\n",
    "X_train, X_test, y_train, y_test = train_test_split(X, y, test_size = 0.2, random_state = 0)"
   ]
  },
  {
   "cell_type": "markdown",
   "metadata": {
    "id": "sE-KZ82ASDeJ",
    "papermill": {
     "duration": 0.054611,
     "end_time": "2021-03-13T00:07:25.323016",
     "exception": false,
     "start_time": "2021-03-13T00:07:25.268405",
     "status": "completed"
    },
    "tags": []
   },
   "source": [
    "**Implementing Standard scaling data**"
   ]
  },
  {
   "cell_type": "code",
   "execution_count": 27,
   "metadata": {
    "execution": {
     "iopub.execute_input": "2021-03-13T00:07:25.438238Z",
     "iopub.status.busy": "2021-03-13T00:07:25.437055Z",
     "iopub.status.idle": "2021-03-13T00:07:25.449594Z",
     "shell.execute_reply": "2021-03-13T00:07:25.449049Z"
    },
    "id": "LqJ63b7lZRwa",
    "outputId": "d571d475-b818-4467-c605-151ce03449dd",
    "papermill": {
     "duration": 0.072615,
     "end_time": "2021-03-13T00:07:25.449750",
     "exception": false,
     "start_time": "2021-03-13T00:07:25.377135",
     "status": "completed"
    },
    "tags": []
   },
   "outputs": [
    {
     "name": "stdout",
     "output_type": "stream",
     "text": [
      "X_train shape =  (604, 754)\n",
      "X_test shape =  (152, 754)\n"
     ]
    }
   ],
   "source": [
    "# Standard scaler haline getirme verileri\n",
    "from sklearn.preprocessing import StandardScaler\n",
    "sc = StandardScaler()\n",
    "X_train = sc.fit_transform(X_train)\n",
    "X_test = sc.transform(X_test)\n",
    "print(\"X_train shape = \",X_train.shape)\n",
    "print(\"X_test shape = \",X_test.shape)"
   ]
  },
  {
   "cell_type": "markdown",
   "metadata": {
    "id": "YZReZwvJSchE",
    "papermill": {
     "duration": 0.054367,
     "end_time": "2021-03-13T00:07:25.558419",
     "exception": false,
     "start_time": "2021-03-13T00:07:25.504052",
     "status": "completed"
    },
    "tags": []
   },
   "source": [
    "**Preparation of new data set to be used in training models. Principal Component Analysis(PCA) implementation. Feature extraction of the data set. And the size reduction has been done.**"
   ]
  },
  {
   "cell_type": "markdown",
   "metadata": {
    "papermill": {
     "duration": 0.054506,
     "end_time": "2021-03-13T00:07:25.667918",
     "exception": false,
     "start_time": "2021-03-13T00:07:25.613412",
     "status": "completed"
    },
    "tags": []
   },
   "source": [
    "#**Note: ** I chose the (n_components)top 6 components with the highest variance. anyone can give a different number. It is an optional choice. Decide to process only 6 of the 754 features with the highest variance. It reduces the size very much and enables fast processing and only the most effective features will be processed. \n",
    "\n",
    "**PCA enabled only 6 variables to be processed instead of 754 variables.**"
   ]
  },
  {
   "cell_type": "code",
   "execution_count": 28,
   "metadata": {
    "execution": {
     "iopub.execute_input": "2021-03-13T00:07:25.780485Z",
     "iopub.status.busy": "2021-03-13T00:07:25.779829Z",
     "iopub.status.idle": "2021-03-13T00:07:26.031109Z",
     "shell.execute_reply": "2021-03-13T00:07:26.032746Z"
    },
    "id": "jDsJzwXFZT56",
    "outputId": "3e467c32-23c8-450c-f965-9eb7c353f445",
    "papermill": {
     "duration": 0.310965,
     "end_time": "2021-03-13T00:07:26.033051",
     "exception": false,
     "start_time": "2021-03-13T00:07:25.722086",
     "status": "completed"
    },
    "tags": []
   },
   "outputs": [
    {
     "name": "stdout",
     "output_type": "stream",
     "text": [
      "X_train2 shape =  (604, 6)\n",
      "X_test2 shape =  (152, 6)\n"
     ]
    }
   ],
   "source": [
    "# PCA\n",
    "from sklearn.decomposition import PCA\n",
    "pca = PCA(n_components = 6)\n",
    "\n",
    "X_train2 = pca.fit_transform(X_train) # sadece bir tane PCA ile çalışıyor aynı uzayda olması için\n",
    "X_test2 = pca.transform(X_test)       # test verisini eğitmiyoruz sadece transform uyguluyoruz\n",
    "\n",
    "print(\"X_train2 shape = \",X_train2.shape)\n",
    "print(\"X_test2 shape = \",X_test2.shape)\n"
   ]
  },
  {
   "cell_type": "markdown",
   "metadata": {
    "id": "ZWLVtKtfBRwK",
    "papermill": {
     "duration": 0.058157,
     "end_time": "2021-03-13T00:07:26.188560",
     "exception": false,
     "start_time": "2021-03-13T00:07:26.130403",
     "status": "completed"
    },
    "tags": []
   },
   "source": [
    "# **Step 6: Comparison Accurancy 6 Machine Learning Models : before-after PCA**"
   ]
  },
  {
   "cell_type": "markdown",
   "metadata": {
    "id": "peZlJJ0T4H0l",
    "papermill": {
     "duration": 0.055863,
     "end_time": "2021-03-13T00:07:26.300388",
     "exception": false,
     "start_time": "2021-03-13T00:07:26.244525",
     "status": "completed"
    },
    "tags": []
   },
   "source": [
    "## **1. Model : Logistic Regression**"
   ]
  },
  {
   "cell_type": "markdown",
   "metadata": {
    "id": "UlsN_cugVVKD",
    "papermill": {
     "duration": 0.054405,
     "end_time": "2021-03-13T00:07:26.409548",
     "exception": false,
     "start_time": "2021-03-13T00:07:26.355143",
     "status": "completed"
    },
    "tags": []
   },
   "source": [
    "**Before PCA**"
   ]
  },
  {
   "cell_type": "code",
   "execution_count": 29,
   "metadata": {
    "execution": {
     "iopub.execute_input": "2021-03-13T00:07:26.525754Z",
     "iopub.status.busy": "2021-03-13T00:07:26.525088Z",
     "iopub.status.idle": "2021-03-13T00:07:26.693727Z",
     "shell.execute_reply": "2021-03-13T00:07:26.694278Z"
    },
    "id": "HSZ3fFjVZYef",
    "outputId": "d841efd0-d451-4fa2-b5de-ec8c224fd285",
    "papermill": {
     "duration": 0.229997,
     "end_time": "2021-03-13T00:07:26.694451",
     "exception": false,
     "start_time": "2021-03-13T00:07:26.464454",
     "status": "completed"
    },
    "tags": []
   },
   "outputs": [
    {
     "name": "stderr",
     "output_type": "stream",
     "text": [
      "D:\\Anaconda3\\lib\\site-packages\\sklearn\\linear_model\\_logistic.py:814: ConvergenceWarning: lbfgs failed to converge (status=1):\n",
      "STOP: TOTAL NO. of ITERATIONS REACHED LIMIT.\n",
      "\n",
      "Increase the number of iterations (max_iter) or scale the data as shown in:\n",
      "    https://scikit-learn.org/stable/modules/preprocessing.html\n",
      "Please also refer to the documentation for alternative solver options:\n",
      "    https://scikit-learn.org/stable/modules/linear_model.html#logistic-regression\n",
      "  n_iter_i = _check_optimize_result(\n"
     ]
    },
    {
     "data": {
      "text/plain": [
       "LogisticRegression(random_state=0)"
      ]
     },
     "execution_count": 29,
     "metadata": {},
     "output_type": "execute_result"
    }
   ],
   "source": [
    "#pca dönüşümünden önce gelen Logistic regression\n",
    "from sklearn.linear_model import LogisticRegression\n",
    "classifier = LogisticRegression(random_state=0)\n",
    "classifier.fit(X_train,y_train)"
   ]
  },
  {
   "cell_type": "markdown",
   "metadata": {
    "id": "OkPV1YP_V_CI",
    "papermill": {
     "duration": 0.056088,
     "end_time": "2021-03-13T00:07:26.806351",
     "exception": false,
     "start_time": "2021-03-13T00:07:26.750263",
     "status": "completed"
    },
    "tags": []
   },
   "source": [
    "**After PCA**"
   ]
  },
  {
   "cell_type": "code",
   "execution_count": 30,
   "metadata": {
    "execution": {
     "iopub.execute_input": "2021-03-13T00:07:26.925521Z",
     "iopub.status.busy": "2021-03-13T00:07:26.924489Z",
     "iopub.status.idle": "2021-03-13T00:07:26.936647Z",
     "shell.execute_reply": "2021-03-13T00:07:26.936002Z"
    },
    "id": "AGn2nFt6-mrJ",
    "outputId": "f7155335-1292-44b8-9b66-a997abf09fab",
    "papermill": {
     "duration": 0.074628,
     "end_time": "2021-03-13T00:07:26.936797",
     "exception": false,
     "start_time": "2021-03-13T00:07:26.862169",
     "status": "completed"
    },
    "tags": []
   },
   "outputs": [
    {
     "data": {
      "text/plain": [
       "LogisticRegression(random_state=0)"
      ]
     },
     "execution_count": 30,
     "metadata": {},
     "output_type": "execute_result"
    }
   ],
   "source": [
    "\n",
    "#pca dönüşümünden sonra gelen LR\n",
    "classifier2 = LogisticRegression(random_state=0)\n",
    "classifier2.fit(X_train2,y_train)"
   ]
  },
  {
   "cell_type": "markdown",
   "metadata": {
    "id": "mBDfSD6JWPZy",
    "papermill": {
     "duration": 0.055393,
     "end_time": "2021-03-13T00:07:27.048455",
     "exception": false,
     "start_time": "2021-03-13T00:07:26.993062",
     "status": "completed"
    },
    "tags": []
   },
   "source": [
    "**Success comparison of PCA and non-PCA models**"
   ]
  },
  {
   "cell_type": "code",
   "execution_count": 31,
   "metadata": {
    "execution": {
     "iopub.execute_input": "2021-03-13T00:07:27.167193Z",
     "iopub.status.busy": "2021-03-13T00:07:27.166539Z",
     "iopub.status.idle": "2021-03-13T00:07:27.169779Z",
     "shell.execute_reply": "2021-03-13T00:07:27.169277Z"
    },
    "id": "bvnuA4-w-mvO",
    "papermill": {
     "duration": 0.065142,
     "end_time": "2021-03-13T00:07:27.169951",
     "exception": false,
     "start_time": "2021-03-13T00:07:27.104809",
     "status": "completed"
    },
    "tags": []
   },
   "outputs": [],
   "source": [
    "#Predictions : tahminler\n",
    "y_pred = classifier.predict(X_test)    # without PCA\n",
    "y_pred2 = classifier2.predict(X_test2) # after PCA"
   ]
  },
  {
   "cell_type": "markdown",
   "metadata": {
    "id": "fSbzxH2OXWdJ",
    "papermill": {
     "duration": 0.056944,
     "end_time": "2021-03-13T00:07:27.283556",
     "exception": false,
     "start_time": "2021-03-13T00:07:27.226612",
     "status": "completed"
    },
    "tags": []
   },
   "source": [
    "**Comparison between real and before PCA**"
   ]
  },
  {
   "cell_type": "code",
   "execution_count": 32,
   "metadata": {
    "execution": {
     "iopub.execute_input": "2021-03-13T00:07:27.403609Z",
     "iopub.status.busy": "2021-03-13T00:07:27.402804Z",
     "iopub.status.idle": "2021-03-13T00:07:27.532431Z",
     "shell.execute_reply": "2021-03-13T00:07:27.533239Z"
    },
    "id": "QhzJbte0-xfx",
    "outputId": "92f0c637-28c0-4da1-a907-55f0e11d91fc",
    "papermill": {
     "duration": 0.192658,
     "end_time": "2021-03-13T00:07:27.533487",
     "exception": false,
     "start_time": "2021-03-13T00:07:27.340829",
     "status": "completed"
    },
    "tags": []
   },
   "outputs": [
    {
     "name": "stdout",
     "output_type": "stream",
     "text": [
      "Comparison between real and before PCA\n",
      "Accuracy Score: 0.8092105263157895\n",
      "Confusion matrix \n",
      " [[25 13]\n",
      " [16 98]]\n",
      "Classification \n",
      "               precision    recall  f1-score   support\n",
      "\n",
      "           0       0.61      0.66      0.63        38\n",
      "           1       0.88      0.86      0.87       114\n",
      "\n",
      "    accuracy                           0.81       152\n",
      "   macro avg       0.75      0.76      0.75       152\n",
      "weighted avg       0.81      0.81      0.81       152\n",
      "\n"
     ]
    }
   ],
   "source": [
    "from sklearn.metrics import confusion_matrix\n",
    "from sklearn import neighbors, datasets, preprocessing\n",
    "from sklearn.metrics import accuracy_score\n",
    "from sklearn.metrics import classification_report\n",
    "\n",
    "#actual / PCA olmadan çıkan sonuç\n",
    "print(\"Comparison between real and before PCA\")\n",
    "\n",
    "print('Accuracy Score:', accuracy_score(y_test, y_pred))\n",
    "print('Confusion matrix \\n',  confusion_matrix(y_test, y_pred))\n",
    "print('Classification \\n', classification_report(y_test, y_pred))"
   ]
  },
  {
   "cell_type": "markdown",
   "metadata": {
    "id": "eSuMGS_pXYLn",
    "papermill": {
     "duration": 0.078961,
     "end_time": "2021-03-13T00:07:27.670350",
     "exception": false,
     "start_time": "2021-03-13T00:07:27.591389",
     "status": "completed"
    },
    "tags": []
   },
   "source": [
    "**Comparison between real and before PCA**"
   ]
  },
  {
   "cell_type": "code",
   "execution_count": 33,
   "metadata": {
    "execution": {
     "iopub.execute_input": "2021-03-13T00:07:27.810779Z",
     "iopub.status.busy": "2021-03-13T00:07:27.809780Z",
     "iopub.status.idle": "2021-03-13T00:07:27.820267Z",
     "shell.execute_reply": "2021-03-13T00:07:27.819650Z"
    },
    "id": "fxnCozeR-0Ed",
    "outputId": "e01e3e7b-629f-4087-d029-9f357c9cf221",
    "papermill": {
     "duration": 0.079373,
     "end_time": "2021-03-13T00:07:27.820413",
     "exception": false,
     "start_time": "2021-03-13T00:07:27.741040",
     "status": "completed"
    },
    "tags": []
   },
   "outputs": [
    {
     "name": "stdout",
     "output_type": "stream",
     "text": [
      "Comparison between real and after PCA \n",
      "Accuracy Score: 0.8157894736842105\n",
      "Confusion matrix \n",
      " [[ 19  19]\n",
      " [  9 105]]\n",
      "Classification \n",
      "               precision    recall  f1-score   support\n",
      "\n",
      "           0       0.68      0.50      0.58        38\n",
      "           1       0.85      0.92      0.88       114\n",
      "\n",
      "    accuracy                           0.82       152\n",
      "   macro avg       0.76      0.71      0.73       152\n",
      "weighted avg       0.80      0.82      0.81       152\n",
      "\n"
     ]
    }
   ],
   "source": [
    "#actual / PCA sonrası çıkan sonuç\n",
    "print(\"Comparison between real and after PCA \")\n",
    "\n",
    "print('Accuracy Score:', accuracy_score(y_test, y_pred2))\n",
    "print('Confusion matrix \\n',  confusion_matrix(y_test, y_pred2))\n",
    "print('Classification \\n', classification_report(y_test, y_pred2))"
   ]
  },
  {
   "cell_type": "markdown",
   "metadata": {
    "id": "lsUczHlcHVAI",
    "papermill": {
     "duration": 0.056787,
     "end_time": "2021-03-13T00:07:27.934853",
     "exception": false,
     "start_time": "2021-03-13T00:07:27.878066",
     "status": "completed"
    },
    "tags": []
   },
   "source": [
    "## **2. Model : Support Vector Machines (SVM)**"
   ]
  },
  {
   "cell_type": "markdown",
   "metadata": {
    "id": "ZESzlGlpXIbf",
    "papermill": {
     "duration": 0.057187,
     "end_time": "2021-03-13T00:07:28.049519",
     "exception": false,
     "start_time": "2021-03-13T00:07:27.992332",
     "status": "completed"
    },
    "tags": []
   },
   "source": [
    "**Comparison between real and before PCA**"
   ]
  },
  {
   "cell_type": "code",
   "execution_count": 34,
   "metadata": {
    "execution": {
     "iopub.execute_input": "2021-03-13T00:07:28.168453Z",
     "iopub.status.busy": "2021-03-13T00:07:28.167775Z",
     "iopub.status.idle": "2021-03-13T00:07:28.533840Z",
     "shell.execute_reply": "2021-03-13T00:07:28.533316Z"
    },
    "id": "EG9JLOFFHXaf",
    "outputId": "f4718bef-25c7-4f30-a686-562c0f961514",
    "papermill": {
     "duration": 0.426211,
     "end_time": "2021-03-13T00:07:28.534001",
     "exception": false,
     "start_time": "2021-03-13T00:07:28.107790",
     "status": "completed"
    },
    "tags": []
   },
   "outputs": [
    {
     "name": "stdout",
     "output_type": "stream",
     "text": [
      "Support Vector Machine:\n",
      "Comparison between real and before PCA\n",
      "Accuracy Score: 0.8355263157894737\n",
      "Confusion matrix \n",
      " [[ 17  21]\n",
      " [  4 110]]\n",
      "Classification \n",
      "               precision    recall  f1-score   support\n",
      "\n",
      "           0       0.81      0.45      0.58        38\n",
      "           1       0.84      0.96      0.90       114\n",
      "\n",
      "    accuracy                           0.84       152\n",
      "   macro avg       0.82      0.71      0.74       152\n",
      "weighted avg       0.83      0.84      0.82       152\n",
      "\n"
     ]
    }
   ],
   "source": [
    "\n",
    "#Support Vector Machine\n",
    "from sklearn.svm import SVC\n",
    " \n",
    "\n",
    "classifier = SVC()\n",
    "classifier.fit(X_train,y_train)\n",
    "y_pred = classifier.predict(X_test)\n",
    "cm = confusion_matrix(y_test,y_pred)\n",
    "accuracy = accuracy_score(y_test,y_pred)\n",
    "print(\"Support Vector Machine:\")\n",
    "\n",
    "print(\"Comparison between real and before PCA\")\n",
    "\n",
    "print('Accuracy Score:', accuracy_score(y_test, y_pred))\n",
    "print('Confusion matrix \\n',  confusion_matrix(y_test, y_pred))\n",
    "print('Classification \\n', classification_report(y_test, y_pred))"
   ]
  },
  {
   "cell_type": "markdown",
   "metadata": {
    "id": "EduFtCjtXLhp",
    "papermill": {
     "duration": 0.05796,
     "end_time": "2021-03-13T00:07:28.650099",
     "exception": false,
     "start_time": "2021-03-13T00:07:28.592139",
     "status": "completed"
    },
    "tags": []
   },
   "source": [
    "**Comparison between real and after PCA**"
   ]
  },
  {
   "cell_type": "code",
   "execution_count": 35,
   "metadata": {
    "execution": {
     "iopub.execute_input": "2021-03-13T00:07:28.772474Z",
     "iopub.status.busy": "2021-03-13T00:07:28.771792Z",
     "iopub.status.idle": "2021-03-13T00:07:28.796970Z",
     "shell.execute_reply": "2021-03-13T00:07:28.796433Z"
    },
    "id": "m9yzE_DCJzuW",
    "outputId": "47296c7e-23e9-4e70-b988-93b7b5ee694b",
    "papermill": {
     "duration": 0.089166,
     "end_time": "2021-03-13T00:07:28.797121",
     "exception": false,
     "start_time": "2021-03-13T00:07:28.707955",
     "status": "completed"
    },
    "tags": []
   },
   "outputs": [
    {
     "name": "stdout",
     "output_type": "stream",
     "text": [
      "Support Vector Machine:\n",
      "Comparison between real and after PCA\n",
      "Accuracy Score: 0.8289473684210527\n",
      "Confusion matrix \n",
      " [[ 19  19]\n",
      " [  7 107]]\n",
      "Classification \n",
      "               precision    recall  f1-score   support\n",
      "\n",
      "           0       0.73      0.50      0.59        38\n",
      "           1       0.85      0.94      0.89       114\n",
      "\n",
      "    accuracy                           0.83       152\n",
      "   macro avg       0.79      0.72      0.74       152\n",
      "weighted avg       0.82      0.83      0.82       152\n",
      "\n"
     ]
    }
   ],
   "source": [
    "\n",
    "#Support Vector Machine\n",
    "from sklearn.svm import SVC\n",
    " \n",
    "\n",
    "classifier = SVC()\n",
    "classifier.fit(X_train2,y_train)\n",
    "y_pred2 = classifier.predict(X_test2)\n",
    "cm = confusion_matrix(y_test,y_pred2)\n",
    "accuracy = accuracy_score(y_test,y_pred2)\n",
    "print(\"Support Vector Machine:\")\n",
    "\n",
    "print(\"Comparison between real and after PCA\")\n",
    "\n",
    "print('Accuracy Score:', accuracy_score(y_test, y_pred2))\n",
    "print('Confusion matrix \\n',  confusion_matrix(y_test, y_pred2))\n",
    "print('Classification \\n', classification_report(y_test, y_pred2))"
   ]
  },
  {
   "cell_type": "markdown",
   "metadata": {
    "id": "7VAlJxArKkO5",
    "papermill": {
     "duration": 0.057773,
     "end_time": "2021-03-13T00:07:28.913316",
     "exception": false,
     "start_time": "2021-03-13T00:07:28.855543",
     "status": "completed"
    },
    "tags": []
   },
   "source": [
    "## **3. Model : Decision Tree Classifier**"
   ]
  },
  {
   "cell_type": "markdown",
   "metadata": {
    "id": "caWyHZMKXibq",
    "papermill": {
     "duration": 0.0579,
     "end_time": "2021-03-13T00:07:29.030209",
     "exception": false,
     "start_time": "2021-03-13T00:07:28.972309",
     "status": "completed"
    },
    "tags": []
   },
   "source": [
    "**Comparison between real and before PCA**"
   ]
  },
  {
   "cell_type": "code",
   "execution_count": 36,
   "metadata": {
    "execution": {
     "iopub.execute_input": "2021-03-13T00:07:29.154765Z",
     "iopub.status.busy": "2021-03-13T00:07:29.154015Z",
     "iopub.status.idle": "2021-03-13T00:07:29.645064Z",
     "shell.execute_reply": "2021-03-13T00:07:29.645568Z"
    },
    "id": "PmDpH-o1KGBL",
    "outputId": "2f5daa44-5d96-48ba-9fbf-428251abe0f6",
    "papermill": {
     "duration": 0.556671,
     "end_time": "2021-03-13T00:07:29.645740",
     "exception": false,
     "start_time": "2021-03-13T00:07:29.089069",
     "status": "completed"
    },
    "tags": []
   },
   "outputs": [
    {
     "name": "stdout",
     "output_type": "stream",
     "text": [
      "Decision Tree Classifier :\n",
      "Comparison between real and before PCA\n",
      "Accuracy Score: 0.8552631578947368\n",
      "Confusion matrix \n",
      " [[ 25  13]\n",
      " [  9 105]]\n",
      "Classification \n",
      "               precision    recall  f1-score   support\n",
      "\n",
      "           0       0.74      0.66      0.69        38\n",
      "           1       0.89      0.92      0.91       114\n",
      "\n",
      "    accuracy                           0.86       152\n",
      "   macro avg       0.81      0.79      0.80       152\n",
      "weighted avg       0.85      0.86      0.85       152\n",
      "\n"
     ]
    }
   ],
   "source": [
    "\n",
    "from sklearn.model_selection import train_test_split\n",
    "\n",
    "\n",
    "from sklearn.tree import DecisionTreeClassifier as DT\n",
    "from sklearn.metrics import confusion_matrix\n",
    "from sklearn.metrics import accuracy_score\n",
    "\n",
    "classifier = DT(criterion='entropy', random_state=0)\n",
    "classifier.fit(X_train,y_train)\n",
    "y_pred = classifier.predict(X_test)\n",
    "\n",
    "print(\"Decision Tree Classifier :\")\n",
    "\n",
    "print(\"Comparison between real and before PCA\")\n",
    "\n",
    "print('Accuracy Score:', accuracy_score(y_test, y_pred))\n",
    "print('Confusion matrix \\n',  confusion_matrix(y_test, y_pred))\n",
    "print('Classification \\n', classification_report(y_test, y_pred))"
   ]
  },
  {
   "cell_type": "markdown",
   "metadata": {
    "id": "qMRaCvPAXk3A",
    "papermill": {
     "duration": 0.058289,
     "end_time": "2021-03-13T00:07:29.762264",
     "exception": false,
     "start_time": "2021-03-13T00:07:29.703975",
     "status": "completed"
    },
    "tags": []
   },
   "source": [
    "**Comparison between real and after PCA**"
   ]
  },
  {
   "cell_type": "code",
   "execution_count": 37,
   "metadata": {
    "execution": {
     "iopub.execute_input": "2021-03-13T00:07:29.884915Z",
     "iopub.status.busy": "2021-03-13T00:07:29.884255Z",
     "iopub.status.idle": "2021-03-13T00:07:29.903617Z",
     "shell.execute_reply": "2021-03-13T00:07:29.904370Z"
    },
    "id": "rOe9fUVUKF6E",
    "outputId": "5478ff51-0f41-4d0a-f789-5e2f7eb60f15",
    "papermill": {
     "duration": 0.08239,
     "end_time": "2021-03-13T00:07:29.904602",
     "exception": false,
     "start_time": "2021-03-13T00:07:29.822212",
     "status": "completed"
    },
    "tags": []
   },
   "outputs": [
    {
     "name": "stdout",
     "output_type": "stream",
     "text": [
      "Comparison between real and after PCA\n",
      "Accuracy Score: 0.756578947368421\n",
      "Confusion matrix \n",
      " [[23 15]\n",
      " [22 92]]\n",
      "Classification \n",
      "               precision    recall  f1-score   support\n",
      "\n",
      "           0       0.51      0.61      0.55        38\n",
      "           1       0.86      0.81      0.83       114\n",
      "\n",
      "    accuracy                           0.76       152\n",
      "   macro avg       0.69      0.71      0.69       152\n",
      "weighted avg       0.77      0.76      0.76       152\n",
      "\n"
     ]
    }
   ],
   "source": [
    "\n",
    "from sklearn.model_selection import train_test_split\n",
    "\n",
    "\n",
    "from sklearn.tree import DecisionTreeClassifier as DT\n",
    "from sklearn.metrics import confusion_matrix\n",
    "from sklearn.metrics import accuracy_score\n",
    "\n",
    "classifier = DT(criterion='entropy', random_state=0)\n",
    "classifier.fit(X_train2,y_train)\n",
    "y_pred2 = classifier.predict(X_test2)\n",
    "\n",
    "\n",
    "print(\"Comparison between real and after PCA\")\n",
    "\n",
    "print('Accuracy Score:', accuracy_score(y_test, y_pred2))\n",
    "print('Confusion matrix \\n',  confusion_matrix(y_test, y_pred2))\n",
    "print('Classification \\n', classification_report(y_test, y_pred2))"
   ]
  },
  {
   "cell_type": "markdown",
   "metadata": {
    "id": "4xC8iNs9FlM8",
    "papermill": {
     "duration": 0.058658,
     "end_time": "2021-03-13T00:07:30.023998",
     "exception": false,
     "start_time": "2021-03-13T00:07:29.965340",
     "status": "completed"
    },
    "tags": []
   },
   "source": [
    "## **4. Model : KNN(k-nearest neighbors algorithm)**"
   ]
  },
  {
   "cell_type": "markdown",
   "metadata": {
    "id": "OOJxW622XwxS",
    "papermill": {
     "duration": 0.058883,
     "end_time": "2021-03-13T00:07:30.143958",
     "exception": false,
     "start_time": "2021-03-13T00:07:30.085075",
     "status": "completed"
    },
    "tags": []
   },
   "source": [
    "**Comparison between real and before PCA**"
   ]
  },
  {
   "cell_type": "code",
   "execution_count": 38,
   "metadata": {
    "execution": {
     "iopub.execute_input": "2021-03-13T00:07:30.264770Z",
     "iopub.status.busy": "2021-03-13T00:07:30.264136Z",
     "iopub.status.idle": "2021-03-13T00:07:30.466341Z",
     "shell.execute_reply": "2021-03-13T00:07:30.465795Z"
    },
    "id": "DhnDh0QUFBhA",
    "outputId": "037b82e2-955a-471a-b41c-deea53454938",
    "papermill": {
     "duration": 0.263783,
     "end_time": "2021-03-13T00:07:30.466499",
     "exception": false,
     "start_time": "2021-03-13T00:07:30.202716",
     "status": "completed"
    },
    "tags": []
   },
   "outputs": [
    {
     "name": "stdout",
     "output_type": "stream",
     "text": [
      "K-Neighbors Classifier :\n",
      "Comparison between real and before PCA\n",
      "Accuracy Score: 0.8421052631578947\n",
      "Confusion matrix \n",
      " [[ 21  17]\n",
      " [  7 107]]\n",
      "Classification \n",
      "               precision    recall  f1-score   support\n",
      "\n",
      "           0       0.75      0.55      0.64        38\n",
      "           1       0.86      0.94      0.90       114\n",
      "\n",
      "    accuracy                           0.84       152\n",
      "   macro avg       0.81      0.75      0.77       152\n",
      "weighted avg       0.83      0.84      0.83       152\n",
      "\n"
     ]
    }
   ],
   "source": [
    "\n",
    "from sklearn import neighbors, datasets, preprocessing\n",
    "from sklearn.metrics import accuracy_score\n",
    "from sklearn.metrics import classification_report\n",
    "from sklearn.metrics import confusion_matrix\n",
    "knn = neighbors.KNeighborsClassifier(n_neighbors=5)\n",
    "knn.fit(X_train, y_train)\n",
    "y_pred = knn.predict(X_test)\n",
    "\n",
    "print(\"K-Neighbors Classifier :\")\n",
    "\n",
    "print(\"Comparison between real and before PCA\")\n",
    "\n",
    "print('Accuracy Score:', accuracy_score(y_test, y_pred))\n",
    "print('Confusion matrix \\n',  confusion_matrix(y_test, y_pred))\n",
    "print('Classification \\n', classification_report(y_test, y_pred))"
   ]
  },
  {
   "cell_type": "markdown",
   "metadata": {
    "id": "U_y8g84WYbQ-",
    "papermill": {
     "duration": 0.059467,
     "end_time": "2021-03-13T00:07:30.585598",
     "exception": false,
     "start_time": "2021-03-13T00:07:30.526131",
     "status": "completed"
    },
    "tags": []
   },
   "source": [
    "**Comparison between real and after PCA**"
   ]
  },
  {
   "cell_type": "code",
   "execution_count": 39,
   "metadata": {
    "execution": {
     "iopub.execute_input": "2021-03-13T00:07:30.711579Z",
     "iopub.status.busy": "2021-03-13T00:07:30.710973Z",
     "iopub.status.idle": "2021-03-13T00:07:30.730593Z",
     "shell.execute_reply": "2021-03-13T00:07:30.730024Z"
    },
    "id": "J6u2QnsHGGbG",
    "outputId": "8f450d25-371c-457c-8b36-fabe2c8d78d2",
    "papermill": {
     "duration": 0.085208,
     "end_time": "2021-03-13T00:07:30.730738",
     "exception": false,
     "start_time": "2021-03-13T00:07:30.645530",
     "status": "completed"
    },
    "tags": []
   },
   "outputs": [
    {
     "name": "stdout",
     "output_type": "stream",
     "text": [
      "Comparison between real and after PCA\n",
      "Accuracy Score: 0.8026315789473685\n",
      "Confusion matrix \n",
      " [[ 21  17]\n",
      " [ 13 101]]\n",
      "Classification \n",
      "               precision    recall  f1-score   support\n",
      "\n",
      "           0       0.62      0.55      0.58        38\n",
      "           1       0.86      0.89      0.87       114\n",
      "\n",
      "    accuracy                           0.80       152\n",
      "   macro avg       0.74      0.72      0.73       152\n",
      "weighted avg       0.80      0.80      0.80       152\n",
      "\n"
     ]
    }
   ],
   "source": [
    "knn = neighbors.KNeighborsClassifier(n_neighbors=5)\n",
    "knn.fit(X_train2, y_train)\n",
    "y_pred2 = knn.predict(X_test2)\n",
    "\n",
    "print(\"Comparison between real and after PCA\")\n",
    "print('Accuracy Score:', accuracy_score(y_test, y_pred2))\n",
    "print('Confusion matrix \\n',  confusion_matrix(y_test, y_pred2))\n",
    "print('Classification \\n', classification_report(y_test, y_pred2))"
   ]
  },
  {
   "cell_type": "markdown",
   "metadata": {
    "id": "dsO6zU0YKdjY",
    "papermill": {
     "duration": 0.060101,
     "end_time": "2021-03-13T00:07:30.850857",
     "exception": false,
     "start_time": "2021-03-13T00:07:30.790756",
     "status": "completed"
    },
    "tags": []
   },
   "source": [
    "## **5. Model : Random Forest Classifier**"
   ]
  },
  {
   "cell_type": "markdown",
   "metadata": {
    "id": "zfZtXSgcYYnj",
    "papermill": {
     "duration": 0.060849,
     "end_time": "2021-03-13T00:07:30.971798",
     "exception": false,
     "start_time": "2021-03-13T00:07:30.910949",
     "status": "completed"
    },
    "tags": []
   },
   "source": [
    "**Comparison between real and before PCA**"
   ]
  },
  {
   "cell_type": "code",
   "execution_count": 40,
   "metadata": {
    "execution": {
     "iopub.execute_input": "2021-03-13T00:07:31.098788Z",
     "iopub.status.busy": "2021-03-13T00:07:31.098126Z",
     "iopub.status.idle": "2021-03-13T00:07:31.275379Z",
     "shell.execute_reply": "2021-03-13T00:07:31.274631Z"
    },
    "id": "8dh7T0lPKd0U",
    "outputId": "27d1c0f0-a41c-4f72-c810-8b40dd6a3b41",
    "papermill": {
     "duration": 0.2439,
     "end_time": "2021-03-13T00:07:31.275523",
     "exception": false,
     "start_time": "2021-03-13T00:07:31.031623",
     "status": "completed"
    },
    "tags": []
   },
   "outputs": [
    {
     "name": "stdout",
     "output_type": "stream",
     "text": [
      "Random Forest Classifier :\n",
      "Comparison between real and before PCA\n",
      "Accuracy Score: 0.8355263157894737\n",
      "Confusion matrix \n",
      " [[ 20  18]\n",
      " [  7 107]]\n",
      "Classification \n",
      "               precision    recall  f1-score   support\n",
      "\n",
      "           0       0.74      0.53      0.62        38\n",
      "           1       0.86      0.94      0.90       114\n",
      "\n",
      "    accuracy                           0.84       152\n",
      "   macro avg       0.80      0.73      0.76       152\n",
      "weighted avg       0.83      0.84      0.83       152\n",
      "\n"
     ]
    }
   ],
   "source": [
    "\n",
    "from sklearn.ensemble import RandomForestClassifier as RF\n",
    "\n",
    "classifier = RF(n_estimators=10, criterion='entropy', random_state=0)\n",
    "classifier.fit(X_train,y_train)\n",
    "y_pred = classifier.predict(X_test)\n",
    "\n",
    "print(\"Random Forest Classifier :\")\n",
    "\n",
    "print(\"Comparison between real and before PCA\")\n",
    "print('Accuracy Score:', accuracy_score(y_test, y_pred))\n",
    "print('Confusion matrix \\n',  confusion_matrix(y_test, y_pred))\n",
    "print('Classification \\n', classification_report(y_test, y_pred))"
   ]
  },
  {
   "cell_type": "markdown",
   "metadata": {
    "id": "zsLIzBblY4Bn",
    "papermill": {
     "duration": 0.060285,
     "end_time": "2021-03-13T00:07:31.397449",
     "exception": false,
     "start_time": "2021-03-13T00:07:31.337164",
     "status": "completed"
    },
    "tags": []
   },
   "source": [
    "**Comparison between real and after PCA**"
   ]
  },
  {
   "cell_type": "code",
   "execution_count": 41,
   "metadata": {
    "execution": {
     "iopub.execute_input": "2021-03-13T00:07:31.535136Z",
     "iopub.status.busy": "2021-03-13T00:07:31.528364Z",
     "iopub.status.idle": "2021-03-13T00:07:31.574821Z",
     "shell.execute_reply": "2021-03-13T00:07:31.573964Z"
    },
    "id": "1tDexc6zLkcW",
    "outputId": "c3f483d3-d37e-47e9-f7ee-5b8c27a60e1d",
    "papermill": {
     "duration": 0.113871,
     "end_time": "2021-03-13T00:07:31.575033",
     "exception": false,
     "start_time": "2021-03-13T00:07:31.461162",
     "status": "completed"
    },
    "tags": []
   },
   "outputs": [
    {
     "name": "stdout",
     "output_type": "stream",
     "text": [
      "Comparison between real and after PCA\n",
      "Accuracy Score: 0.8157894736842105\n",
      "Confusion matrix \n",
      " [[ 23  15]\n",
      " [ 13 101]]\n",
      "Classification \n",
      "               precision    recall  f1-score   support\n",
      "\n",
      "           0       0.64      0.61      0.62        38\n",
      "           1       0.87      0.89      0.88       114\n",
      "\n",
      "    accuracy                           0.82       152\n",
      "   macro avg       0.75      0.75      0.75       152\n",
      "weighted avg       0.81      0.82      0.81       152\n",
      "\n"
     ]
    }
   ],
   "source": [
    "\n",
    "from sklearn.ensemble import RandomForestClassifier as RF\n",
    "\n",
    "classifier = RF(n_estimators=10, criterion='entropy', random_state=0)\n",
    "classifier.fit(X_train2,y_train)\n",
    "y_pred2 = classifier.predict(X_test2)\n",
    "\n",
    "print(\"Comparison between real and after PCA\")\n",
    "print('Accuracy Score:', accuracy_score(y_test, y_pred2))\n",
    "print('Confusion matrix \\n',  confusion_matrix(y_test, y_pred2))\n",
    "print('Classification \\n', classification_report(y_test, y_pred2))"
   ]
  },
  {
   "cell_type": "markdown",
   "metadata": {
    "id": "9r_Va04aKC5J",
    "papermill": {
     "duration": 0.060689,
     "end_time": "2021-03-13T00:07:31.697463",
     "exception": false,
     "start_time": "2021-03-13T00:07:31.636774",
     "status": "completed"
    },
    "tags": []
   },
   "source": [
    "## ** 6. Model:  Gaussian Naive Bayes**"
   ]
  },
  {
   "cell_type": "markdown",
   "metadata": {
    "id": "Z45wq-KMZAoA",
    "papermill": {
     "duration": 0.060552,
     "end_time": "2021-03-13T00:07:31.818864",
     "exception": false,
     "start_time": "2021-03-13T00:07:31.758312",
     "status": "completed"
    },
    "tags": []
   },
   "source": [
    "**Comparison between real and before PCA**"
   ]
  },
  {
   "cell_type": "code",
   "execution_count": 42,
   "metadata": {
    "execution": {
     "iopub.execute_input": "2021-03-13T00:07:31.943543Z",
     "iopub.status.busy": "2021-03-13T00:07:31.942893Z",
     "iopub.status.idle": "2021-03-13T00:07:31.965474Z",
     "shell.execute_reply": "2021-03-13T00:07:31.964835Z"
    },
    "id": "3tFR2UamKF0_",
    "outputId": "37426a1a-0364-49f3-b0ea-b2e4ad9d01ed",
    "papermill": {
     "duration": 0.086146,
     "end_time": "2021-03-13T00:07:31.965620",
     "exception": false,
     "start_time": "2021-03-13T00:07:31.879474",
     "status": "completed"
    },
    "tags": []
   },
   "outputs": [
    {
     "name": "stdout",
     "output_type": "stream",
     "text": [
      "Gaussian Naive Bayes :\n",
      "Comparison between real and before PCA\n",
      "Accuracy Score: 0.7894736842105263\n",
      "Confusion matrix \n",
      " [[24 14]\n",
      " [18 96]]\n",
      "Classification \n",
      "               precision    recall  f1-score   support\n",
      "\n",
      "           0       0.57      0.63      0.60        38\n",
      "           1       0.87      0.84      0.86       114\n",
      "\n",
      "    accuracy                           0.79       152\n",
      "   macro avg       0.72      0.74      0.73       152\n",
      "weighted avg       0.80      0.79      0.79       152\n",
      "\n"
     ]
    }
   ],
   "source": [
    "\n",
    "#Gaussian Naive Bayes\n",
    "from sklearn.naive_bayes import GaussianNB\n",
    "classifier = GaussianNB()\n",
    "classifier.fit(X_train,y_train)\n",
    "y_pred = classifier.predict(X_test)\n",
    "\n",
    "print(\"Gaussian Naive Bayes :\")\n",
    "\n",
    "print(\"Comparison between real and before PCA\")\n",
    "print('Accuracy Score:', accuracy_score(y_test, y_pred))\n",
    "print('Confusion matrix \\n',  confusion_matrix(y_test, y_pred))\n",
    "print('Classification \\n', classification_report(y_test, y_pred))"
   ]
  },
  {
   "cell_type": "markdown",
   "metadata": {
    "id": "LGJCyLXtZDYz",
    "papermill": {
     "duration": 0.061292,
     "end_time": "2021-03-13T00:07:32.087975",
     "exception": false,
     "start_time": "2021-03-13T00:07:32.026683",
     "status": "completed"
    },
    "tags": []
   },
   "source": [
    "**Comparison between real and after PCA**"
   ]
  },
  {
   "cell_type": "code",
   "execution_count": 43,
   "metadata": {
    "execution": {
     "iopub.execute_input": "2021-03-13T00:07:32.214820Z",
     "iopub.status.busy": "2021-03-13T00:07:32.214206Z",
     "iopub.status.idle": "2021-03-13T00:07:32.229125Z",
     "shell.execute_reply": "2021-03-13T00:07:32.229673Z"
    },
    "id": "GpoFhG3oKKi0",
    "outputId": "537afb29-b267-4e53-872b-77bb36215120",
    "papermill": {
     "duration": 0.080288,
     "end_time": "2021-03-13T00:07:32.229846",
     "exception": false,
     "start_time": "2021-03-13T00:07:32.149558",
     "status": "completed"
    },
    "tags": []
   },
   "outputs": [
    {
     "name": "stdout",
     "output_type": "stream",
     "text": [
      "Comparison between real and after PCA\n",
      "Accuracy Score: 0.75\n",
      "Confusion matrix \n",
      " [[ 10  28]\n",
      " [ 10 104]]\n",
      "Classification \n",
      "               precision    recall  f1-score   support\n",
      "\n",
      "           0       0.50      0.26      0.34        38\n",
      "           1       0.79      0.91      0.85       114\n",
      "\n",
      "    accuracy                           0.75       152\n",
      "   macro avg       0.64      0.59      0.60       152\n",
      "weighted avg       0.72      0.75      0.72       152\n",
      "\n"
     ]
    }
   ],
   "source": [
    "\n",
    "from sklearn.naive_bayes import GaussianNB\n",
    "classifier = GaussianNB()\n",
    "classifier.fit(X_train2,y_train)\n",
    "y_pred2 = classifier.predict(X_test2)\n",
    "\n",
    "print(\"Comparison between real and after PCA\")\n",
    "print('Accuracy Score:', accuracy_score(y_test, y_pred2))\n",
    "print('Confusion matrix \\n',  confusion_matrix(y_test, y_pred2))\n",
    "print('Classification \\n', classification_report(y_test, y_pred2))"
   ]
  },
  {
   "cell_type": "markdown",
   "metadata": {
    "papermill": {
     "duration": 0.063204,
     "end_time": "2021-03-13T00:07:32.355636",
     "exception": false,
     "start_time": "2021-03-13T00:07:32.292432",
     "status": "completed"
    },
    "tags": []
   },
   "source": [
    "**It is observed that reducing the size with PCA, that is, reducing the number of variables, has a positive effect on the success score of some machine learning classification models. It is possible to produce more effective and faster solutions by taking a small amount of data loss. Reducing dimensions with PCA will provide us with great convenience, especially in studies related to Big Data.**"
   ]
  },
  {
   "cell_type": "markdown",
   "metadata": {
    "papermill": {
     "duration": 0.061351,
     "end_time": "2021-03-13T00:07:32.478798",
     "exception": false,
     "start_time": "2021-03-13T00:07:32.417447",
     "status": "completed"
    },
    "tags": []
   },
   "source": []
  }
 ],
 "metadata": {
  "kernelspec": {
   "display_name": "Python 3 (ipykernel)",
   "language": "python",
   "name": "python3"
  },
  "language_info": {
   "codemirror_mode": {
    "name": "ipython",
    "version": 3
   },
   "file_extension": ".py",
   "mimetype": "text/x-python",
   "name": "python",
   "nbconvert_exporter": "python",
   "pygments_lexer": "ipython3",
   "version": "3.9.12"
  },
  "papermill": {
   "default_parameters": {},
   "duration": 25.817083,
   "end_time": "2021-03-13T00:07:33.250271",
   "environment_variables": {},
   "exception": null,
   "input_path": "__notebook__.ipynb",
   "output_path": "__notebook__.ipynb",
   "parameters": {},
   "start_time": "2021-03-13T00:07:07.433188",
   "version": "2.2.2"
  }
 },
 "nbformat": 4,
 "nbformat_minor": 4
}
